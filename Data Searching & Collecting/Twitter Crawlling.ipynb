{
 "cells": [
  {
   "cell_type": "code",
   "execution_count": 1,
   "id": "427fd907",
   "metadata": {},
   "outputs": [
    {
     "name": "stderr",
     "output_type": "stream",
     "text": [
      "C:\\Users\\boo\\anaconda3\\envs\\py36\\lib\\site-packages\\requests\\__init__.py:104: RequestsDependencyWarning: urllib3 (1.26.17) or chardet (5.0.0)/charset_normalizer (2.0.12) doesn't match a supported version!\n",
      "  RequestsDependencyWarning)\n"
     ]
    }
   ],
   "source": [
    "import re\n",
    "import time\n",
    "import random\n",
    "import requests\n",
    "import pandas as pd\n",
    "import datetime as dt\n",
    "from bs4 import BeautifulSoup\n",
    "from selenium import webdriver\n",
    "from tqdm.notebook import tqdm\n",
    "from urllib.request import Request, urlopen\n",
    "from selenium.webdriver.common.keys import Keys\n",
    "from selenium.common.exceptions import TimeoutException\n",
    "from selenium.webdriver.support.ui import WebDriverWait\n",
    "from selenium.webdriver.support import expected_conditions as EC\n",
    "from selenium.webdriver.common.desired_capabilities import  DesiredCapabilities"
   ]
  },
  {
   "cell_type": "code",
   "execution_count": 8,
   "id": "9cba2441",
   "metadata": {},
   "outputs": [
    {
     "name": "stdout",
     "output_type": "stream",
     "text": [
      "Trump: 61 URLs generated\n",
      "Harris: 61 URLs generated\n"
     ]
    }
   ],
   "source": [
    "import datetime as dt\n",
    "\n",
    "URLs = {'Trump': [], 'Harris': []}\n",
    "\n",
    "# 시작 날짜와 종료 날짜\n",
    "startdate = dt.date(year=2024, month=8, day=31)\n",
    "untildate = dt.date(year=2024, month=9, day=1)\n",
    "\n",
    "# 종료일이 2024년 10월 31일이 될 때까지 반복\n",
    "while untildate != dt.date(year=2024, month=11, day=1):\n",
    "    # 트럼프 트윗 검색 URL\n",
    "    url_Trump = 'https://x.com/search?q=(from%3ArealDonaldTrump)%20lang%3Aen%20until%3A' + str(untildate) + '%20since%3A' + str(startdate) + '&src=typed_query'\n",
    "    \n",
    "    # 카말라 해리스 트윗 검색 URL\n",
    "    url_Harris = 'https://x.com/search?q=(from%3AVP)%20lang%3Aen%20until%3A' + str(untildate) + '%20since%3A' + str(startdate) + '&src=typed_query'\n",
    "    \n",
    "    # 다음 날짜로 이동\n",
    "    startdate = untildate\n",
    "    untildate += dt.timedelta(days=1)\n",
    "    \n",
    "    URLs['Trump'].append(url_Trump)\n",
    "    URLs['Harris'].append(url_Harris)\n",
    "\n",
    "# 생성된 URL을 확인\n",
    "for key, value in URLs.items():\n",
    "    print(f\"{key}: {len(value)} URLs generated\")"
   ]
  },
  {
   "cell_type": "code",
   "execution_count": 3,
   "id": "061f5650",
   "metadata": {},
   "outputs": [
    {
     "data": {
      "text/html": [
       "<div>\n",
       "<style scoped>\n",
       "    .dataframe tbody tr th:only-of-type {\n",
       "        vertical-align: middle;\n",
       "    }\n",
       "\n",
       "    .dataframe tbody tr th {\n",
       "        vertical-align: top;\n",
       "    }\n",
       "\n",
       "    .dataframe thead th {\n",
       "        text-align: right;\n",
       "    }\n",
       "</style>\n",
       "<table border=\"1\" class=\"dataframe\">\n",
       "  <thead>\n",
       "    <tr style=\"text-align: right;\">\n",
       "      <th></th>\n",
       "      <th>Trump</th>\n",
       "      <th>Harris</th>\n",
       "    </tr>\n",
       "  </thead>\n",
       "  <tbody>\n",
       "    <tr>\n",
       "      <th>0</th>\n",
       "      <td>https://x.com/search?q=(from%3ArealDonaldTrump...</td>\n",
       "      <td>https://x.com/search?q=(from%3AVP)%20lang%3Aen...</td>\n",
       "    </tr>\n",
       "    <tr>\n",
       "      <th>1</th>\n",
       "      <td>https://x.com/search?q=(from%3ArealDonaldTrump...</td>\n",
       "      <td>https://x.com/search?q=(from%3AVP)%20lang%3Aen...</td>\n",
       "    </tr>\n",
       "    <tr>\n",
       "      <th>2</th>\n",
       "      <td>https://x.com/search?q=(from%3ArealDonaldTrump...</td>\n",
       "      <td>https://x.com/search?q=(from%3AVP)%20lang%3Aen...</td>\n",
       "    </tr>\n",
       "    <tr>\n",
       "      <th>3</th>\n",
       "      <td>https://x.com/search?q=(from%3ArealDonaldTrump...</td>\n",
       "      <td>https://x.com/search?q=(from%3AVP)%20lang%3Aen...</td>\n",
       "    </tr>\n",
       "    <tr>\n",
       "      <th>4</th>\n",
       "      <td>https://x.com/search?q=(from%3ArealDonaldTrump...</td>\n",
       "      <td>https://x.com/search?q=(from%3AVP)%20lang%3Aen...</td>\n",
       "    </tr>\n",
       "  </tbody>\n",
       "</table>\n",
       "</div>"
      ],
      "text/plain": [
       "                                               Trump  \\\n",
       "0  https://x.com/search?q=(from%3ArealDonaldTrump...   \n",
       "1  https://x.com/search?q=(from%3ArealDonaldTrump...   \n",
       "2  https://x.com/search?q=(from%3ArealDonaldTrump...   \n",
       "3  https://x.com/search?q=(from%3ArealDonaldTrump...   \n",
       "4  https://x.com/search?q=(from%3ArealDonaldTrump...   \n",
       "\n",
       "                                              Harris  \n",
       "0  https://x.com/search?q=(from%3AVP)%20lang%3Aen...  \n",
       "1  https://x.com/search?q=(from%3AVP)%20lang%3Aen...  \n",
       "2  https://x.com/search?q=(from%3AVP)%20lang%3Aen...  \n",
       "3  https://x.com/search?q=(from%3AVP)%20lang%3Aen...  \n",
       "4  https://x.com/search?q=(from%3AVP)%20lang%3Aen...  "
      ]
     },
     "execution_count": 3,
     "metadata": {},
     "output_type": "execute_result"
    }
   ],
   "source": [
    "url_df=pd.DataFrame(URLs)\n",
    "url_df.head()"
   ]
  },
  {
   "cell_type": "code",
   "execution_count": 4,
   "id": "656b71e9",
   "metadata": {},
   "outputs": [
    {
     "data": {
      "text/plain": [
       "'https://x.com/search?q=(from%3ArealDonaldTrump)%20lang%3Aen%20until%3A2024-10-01%20since%3A2024-09-30&src=typed_query'"
      ]
     },
     "execution_count": 4,
     "metadata": {},
     "output_type": "execute_result"
    }
   ],
   "source": [
    "url_df['Trump'][0]"
   ]
  },
  {
   "cell_type": "code",
   "execution_count": 5,
   "id": "ef6ad407",
   "metadata": {},
   "outputs": [
    {
     "data": {
      "text/plain": [
       "'https://x.com/search?q=(from%3AVP)%20lang%3Aen%20until%3A2024-10-20%20since%3A2024-10-19&src=typed_query'"
      ]
     },
     "execution_count": 5,
     "metadata": {},
     "output_type": "execute_result"
    }
   ],
   "source": [
    "url_df['Harris'][19]"
   ]
  },
  {
   "cell_type": "code",
   "execution_count": 6,
   "id": "161b92cc",
   "metadata": {},
   "outputs": [],
   "source": [
    "from selenium import webdriver\n",
    "from selenium.webdriver.common.keys import Keys\n",
    "import pandas as pd\n",
    "from progressbar import ProgressBar\n",
    "from time import sleep\n",
    "import random\n",
    "\n",
    "# Chromedriver 경로 설정 및 브라우저 초기화\n",
    "browser_path = \"/Users/boo/USA_President_Election/chromedriver\" \n",
    "driver = webdriver.Chrome(executable_path=browser_path)   "
   ]
  },
  {
   "cell_type": "code",
   "execution_count": 12,
   "id": "05e82ff4",
   "metadata": {},
   "outputs": [
    {
     "name": "stderr",
     "output_type": "stream",
     "text": [
      "100% |########################################################################|\n",
      "100% |########################################################################|\n",
      "100% |########################################################################|\n"
     ]
    }
   ],
   "source": [
    "def sleep_for(opt1, opt2):\n",
    "    time_for = random.uniform(opt1, opt2)\n",
    "    time_for_int = int(round(time_for))\n",
    "    sleep(abs(time_for_int - time_for))\n",
    "    for i in range(time_for_int, 0, -1):\n",
    "        sleep(1)\n",
    "\n",
    "master_temp_df = pd.DataFrame()\n",
    "master_df = pd.DataFrame()\n",
    "\n",
    "for urls in url_df['Trump'][:]:\n",
    "    pbar = ProgressBar()\n",
    "    urls=[urls]\n",
    "    post_element_xpath = '//div/div/article/div/div' \n",
    "    for url in pbar(urls):                          \n",
    "        driver.get(url)\n",
    "        sleep_for(3, 7)                           \n",
    "\n",
    "        lastHeight = driver.execute_script(\"return document.body.scrollHeight\")\n",
    "        \n",
    "        while True:\n",
    "            driver.find_element_by_xpath('//body').send_keys(Keys.END)\n",
    "            sleep_for(2, 6)\n",
    "            newHeight = driver.execute_script(\"return document.body.scrollHeight\")\n",
    "            if newHeight != lastHeight:\n",
    "                pass\n",
    "            else:\n",
    "                post_list = driver.find_elements_by_xpath(post_element_xpath)      \n",
    "                post_text = [x.text for x in post_list]                          \n",
    "                temp_df = pd.DataFrame(post_text, columns={'all_text'})           \n",
    "                master_temp_df = master_temp_df.append(temp_df)                   \n",
    "                break\n",
    "            \n",
    "            lastHeight = newHeight      \n",
    "            master_df=master_df.append(master_temp_df)\n",
    "            \n",
    "master_df.to_csv(\"trump.csv\", index=False)"
   ]
  },
  {
   "cell_type": "code",
   "execution_count": 9,
   "id": "c0dc7201",
   "metadata": {},
   "outputs": [
    {
     "name": "stdout",
     "output_type": "stream",
     "text": [
      "Trump: 61 URLs generated\n",
      "Harris: 61 URLs generated\n"
     ]
    }
   ],
   "source": [
    "import datetime as dt\n",
    "\n",
    "URLs = {'Trump': [], 'Harris': []}\n",
    "\n",
    "# 시작 날짜와 종료 날짜\n",
    "startdate = dt.date(year=2024, month=8, day=31)\n",
    "untildate = dt.date(year=2024, month=9, day=1)\n",
    "\n",
    "# 종료일이 2024년 10월 30일이 될 때까지 반복\n",
    "while untildate != dt.date(year=2024, month=11, day=1):\n",
    "    # 트럼프 트윗 검색 URL\n",
    "    url_Trump = 'https://x.com/search?q=(to%3ArealDonaldTrump)%20lang%3Aen%20until%3A' + str(untildate) + '%20since%3A' + str(startdate) + '&src=typed_query'\n",
    "    \n",
    "    # 카말라 해리스 트윗 검색 URL\n",
    "    url_Harris = 'https://x.com/search?q=(to%3AVP)%20lang%3Aen%20until%3A' + str(untildate) + '%20since%3A' + str(startdate) + '&src=typed_query'\n",
    "    \n",
    "    # 다음 날짜로 이동\n",
    "    startdate = untildate\n",
    "    untildate += dt.timedelta(days=1)\n",
    "    \n",
    "    URLs['Trump'].append(url_Trump)\n",
    "    URLs['Harris'].append(url_Harris)\n",
    "\n",
    "# 생성된 URL을 확인\n",
    "for key, value in URLs.items():\n",
    "    print(f\"{key}: {len(value)} URLs generated\")\n"
   ]
  },
  {
   "cell_type": "code",
   "execution_count": 4,
   "id": "0073ba3e",
   "metadata": {},
   "outputs": [
    {
     "data": {
      "text/html": [
       "<div>\n",
       "<style scoped>\n",
       "    .dataframe tbody tr th:only-of-type {\n",
       "        vertical-align: middle;\n",
       "    }\n",
       "\n",
       "    .dataframe tbody tr th {\n",
       "        vertical-align: top;\n",
       "    }\n",
       "\n",
       "    .dataframe thead th {\n",
       "        text-align: right;\n",
       "    }\n",
       "</style>\n",
       "<table border=\"1\" class=\"dataframe\">\n",
       "  <thead>\n",
       "    <tr style=\"text-align: right;\">\n",
       "      <th></th>\n",
       "      <th>Trump</th>\n",
       "      <th>Harris</th>\n",
       "    </tr>\n",
       "  </thead>\n",
       "  <tbody>\n",
       "    <tr>\n",
       "      <th>0</th>\n",
       "      <td>https://x.com/search?q=(to%3ArealDonaldTrump)%...</td>\n",
       "      <td>https://x.com/search?q=(to%3AVP)%20lang%3Aen%2...</td>\n",
       "    </tr>\n",
       "    <tr>\n",
       "      <th>1</th>\n",
       "      <td>https://x.com/search?q=(to%3ArealDonaldTrump)%...</td>\n",
       "      <td>https://x.com/search?q=(to%3AVP)%20lang%3Aen%2...</td>\n",
       "    </tr>\n",
       "    <tr>\n",
       "      <th>2</th>\n",
       "      <td>https://x.com/search?q=(to%3ArealDonaldTrump)%...</td>\n",
       "      <td>https://x.com/search?q=(to%3AVP)%20lang%3Aen%2...</td>\n",
       "    </tr>\n",
       "    <tr>\n",
       "      <th>3</th>\n",
       "      <td>https://x.com/search?q=(to%3ArealDonaldTrump)%...</td>\n",
       "      <td>https://x.com/search?q=(to%3AVP)%20lang%3Aen%2...</td>\n",
       "    </tr>\n",
       "    <tr>\n",
       "      <th>4</th>\n",
       "      <td>https://x.com/search?q=(to%3ArealDonaldTrump)%...</td>\n",
       "      <td>https://x.com/search?q=(to%3AVP)%20lang%3Aen%2...</td>\n",
       "    </tr>\n",
       "  </tbody>\n",
       "</table>\n",
       "</div>"
      ],
      "text/plain": [
       "                                               Trump  \\\n",
       "0  https://x.com/search?q=(to%3ArealDonaldTrump)%...   \n",
       "1  https://x.com/search?q=(to%3ArealDonaldTrump)%...   \n",
       "2  https://x.com/search?q=(to%3ArealDonaldTrump)%...   \n",
       "3  https://x.com/search?q=(to%3ArealDonaldTrump)%...   \n",
       "4  https://x.com/search?q=(to%3ArealDonaldTrump)%...   \n",
       "\n",
       "                                              Harris  \n",
       "0  https://x.com/search?q=(to%3AVP)%20lang%3Aen%2...  \n",
       "1  https://x.com/search?q=(to%3AVP)%20lang%3Aen%2...  \n",
       "2  https://x.com/search?q=(to%3AVP)%20lang%3Aen%2...  \n",
       "3  https://x.com/search?q=(to%3AVP)%20lang%3Aen%2...  \n",
       "4  https://x.com/search?q=(to%3AVP)%20lang%3Aen%2...  "
      ]
     },
     "execution_count": 4,
     "metadata": {},
     "output_type": "execute_result"
    }
   ],
   "source": [
    "url_df=pd.DataFrame(URLs)\n",
    "url_df.head()"
   ]
  },
  {
   "cell_type": "code",
   "execution_count": 2,
   "id": "e3030868",
   "metadata": {},
   "outputs": [],
   "source": [
    "from selenium import webdriver\n",
    "from selenium.webdriver.common.keys import Keys\n",
    "import pandas as pd\n",
    "from progressbar import ProgressBar\n",
    "from time import sleep\n",
    "import random\n",
    "\n",
    "# Chromedriver 경로 설정 및 브라우저 초기화\n",
    "browser_path = \"/Users/boo/USA_President_Election/chromedriver\" \n",
    "driver = webdriver.Chrome(executable_path=browser_path)   "
   ]
  },
  {
   "cell_type": "code",
   "execution_count": 27,
   "id": "3bbe7bdf",
   "metadata": {},
   "outputs": [
    {
     "data": {
      "text/plain": [
       "'https://x.com/search?q=(to%3AVP)%20lang%3Aen%20until%3A2024-10-06%20since%3A2024-10-05&src=typed_query'"
      ]
     },
     "execution_count": 27,
     "metadata": {},
     "output_type": "execute_result"
    }
   ],
   "source": [
    "url_df['Harris'][6]"
   ]
  },
  {
   "cell_type": "code",
   "execution_count": 7,
   "id": "de4d1b3d",
   "metadata": {},
   "outputs": [
    {
     "name": "stderr",
     "output_type": "stream",
     "text": [
      "100% |########################################################################|\n"
     ]
    }
   ],
   "source": [
    "def sleep_for(opt1, opt2):\n",
    "    time_for = random.uniform(opt1, opt2)\n",
    "    time_for_int = int(round(time_for))\n",
    "    sleep(abs(time_for_int - time_for))\n",
    "    for i in range(time_for_int, 0, -1):\n",
    "        sleep(1)\n",
    "\n",
    "master_temp_df = pd.DataFrame()\n",
    "master_df = pd.DataFrame()\n",
    "\n",
    "for urls in url_df['Harris'][:]:\n",
    "    pbar = ProgressBar()\n",
    "    urls=[urls]\n",
    "    post_element_xpath = '//div/div/article/div/div' \n",
    "    for url in pbar(urls):                         \n",
    "        driver.get(url)\n",
    "        sleep_for(3, 7)                            \n",
    "\n",
    "        lastHeight = driver.execute_script(\"return document.body.scrollHeight\")\n",
    "        \n",
    "        while True:\n",
    "            driver.find_element_by_xpath('//body').send_keys(Keys.END)\n",
    "            sleep_for(2, 6)\n",
    "            newHeight = driver.execute_script(\"return document.body.scrollHeight\")\n",
    "            if newHeight != lastHeight:\n",
    "                pass\n",
    "            else:\n",
    "                post_list = driver.find_elements_by_xpath(post_element_xpath)      \n",
    "                post_text = [x.text for x in post_list]                          \n",
    "                temp_df = pd.DataFrame(post_text, columns={'all_text'})           \n",
    "                master_temp_df = master_temp_df.append(temp_df)                  \n",
    "                break\n",
    "            \n",
    "            lastHeight = newHeight      # update Height\n",
    "            master_df=master_df.append(master_temp_df)\n",
    "            \n",
    "master_df.to_csv(\"toharris.csv\", index=False)"
   ]
  },
  {
   "cell_type": "code",
   "execution_count": null,
   "id": "e314e325",
   "metadata": {},
   "outputs": [],
   "source": []
  }
 ],
 "metadata": {
  "kernelspec": {
   "display_name": "Python 3",
   "language": "python",
   "name": "python3"
  },
  "language_info": {
   "codemirror_mode": {
    "name": "ipython",
    "version": 3
   },
   "file_extension": ".py",
   "mimetype": "text/x-python",
   "name": "python",
   "nbconvert_exporter": "python",
   "pygments_lexer": "ipython3",
   "version": "3.6.13"
  }
 },
 "nbformat": 4,
 "nbformat_minor": 5
}
