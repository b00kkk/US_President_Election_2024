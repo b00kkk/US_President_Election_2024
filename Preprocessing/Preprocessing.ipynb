{
 "cells": [
  {
   "cell_type": "markdown",
   "id": "5c1e7ce9",
   "metadata": {},
   "source": [
    "# Twitter(X)"
   ]
  },
  {
   "cell_type": "code",
   "execution_count": 71,
   "id": "de0f654c",
   "metadata": {},
   "outputs": [],
   "source": [
    "import pandas as pd\n",
    "\n",
    "trump1=pd.read_csv('/Users/boo/USA_President_Election/Collecting/trump0901_0930.csv')\n",
    "trump2=pd.read_csv('/Users/boo/USA_President_Election/Collecting/trump1001_.csv')\n",
    "trump3=pd.read_csv('/Users/boo/USA_President_Election/Collecting/trump1023_.csv')\n",
    "trump4=pd.read_csv('/Users/boo/USA_President_Election/Collecting/trump1028_.csv')\n",
    "harris1=pd.read_csv('/Users/boo/USA_President_Election/Collecting/harris0901_0919.csv')\n",
    "harris2=pd.read_csv('/Users/boo/USA_President_Election/Collecting/harris0920_0930.csv')\n",
    "harris3=pd.read_csv('/Users/boo/USA_President_Election/Collecting/harris1001_.csv')\n",
    "harris4=pd.read_csv('/Users/boo/USA_President_Election/Collecting/harris1021_.csv')"
   ]
  },
  {
   "cell_type": "code",
   "execution_count": 72,
   "id": "d118f84e",
   "metadata": {},
   "outputs": [
    {
     "name": "stdout",
     "output_type": "stream",
     "text": [
      "                                              all_text\n",
      "0    Donald J. Trump\\n@realDonaldTrump\\n·\\nAug 31\\n...\n",
      "1    Donald J. Trump\\n@realDonaldTrump\\n·\\nAug 31\\n...\n",
      "2    Donald J. Trump\\n@realDonaldTrump\\n·\\nAug 31\\n...\n",
      "3    Donald J. Trump\\n@realDonaldTrump\\n·\\nAug 31\\n...\n",
      "4    Donald J. Trump\\n@realDonaldTrump\\n·\\nAug 31\\n...\n",
      "..                                                 ...\n",
      "149  Donald J. Trump\\n@realDonaldTrump\\n·\\nOct 30\\n...\n",
      "150  Donald J. Trump\\n@realDonaldTrump\\n·\\nOct 30\\n...\n",
      "151  Donald J. Trump\\n@realDonaldTrump\\n·\\nOct 29\\n...\n",
      "152  Donald J. Trump\\n@realDonaldTrump\\n·\\nOct 30\\n...\n",
      "153  Donald J. Trump\\n@realDonaldTrump\\n·\\nOct 30\\n...\n",
      "\n",
      "[154 rows x 1 columns]\n"
     ]
    }
   ],
   "source": [
    "import pandas as pd\n",
    "\n",
    "from_trump = [trump1,trump2,trump3,trump4]\n",
    "trump = pd.concat(from_trump, ignore_index=True)\n",
    "\n",
    "print(trump)"
   ]
  },
  {
   "cell_type": "code",
   "execution_count": 73,
   "id": "240233c4",
   "metadata": {},
   "outputs": [
    {
     "name": "stdout",
     "output_type": "stream",
     "text": [
      "                                              all_text\n",
      "0    Vice President Kamala Harris\\n@VP\\n·\\nSep 1\\nO...\n",
      "1    Vice President Kamala Harris\\n@VP\\n·\\nSep 1\\nR...\n",
      "2    Vice President Kamala Harris\\n@VP\\n·\\nAug 31\\n...\n",
      "3    Vice President Kamala Harris\\n@VP\\n·\\nSep 1\\nT...\n",
      "4    Vice President Kamala Harris\\n@VP\\n·\\nSep 1\\nO...\n",
      "..                                                 ...\n",
      "187  Vice President Kamala Harris\\n@VP\\n·\\nOct 29\\n...\n",
      "188  Vice President Kamala Harris\\n@VP\\n·\\nOct 30\\n...\n",
      "189  Vice President Kamala Harris\\n@VP\\n·\\nOct 30\\n...\n",
      "190  Vice President Kamala Harris\\n@VP\\n·\\nOct 31\\n...\n",
      "191  Vice President Kamala Harris\\n@VP\\n·\\nOct 31\\n...\n",
      "\n",
      "[192 rows x 1 columns]\n"
     ]
    }
   ],
   "source": [
    "from_harris = [harris1,harris2,harris3,harris4]\n",
    "harris = pd.concat(from_harris, ignore_index=True)\n",
    "\n",
    "print(harris)"
   ]
  },
  {
   "cell_type": "code",
   "execution_count": 74,
   "id": "153fb935",
   "metadata": {},
   "outputs": [],
   "source": [
    "def split_text(row):\n",
    "    # \\n을 기준으로 텍스트를 나누기\n",
    "    parts = row['all_text'].split('\\n')\n",
    "    \n",
    "    # 분리된 데이터에서 각 항목 추출\n",
    "    name = parts[0]  # 첫 번째 줄이 이름\n",
    "    user_id = parts[1]  # 두 번째 줄이 id\n",
    "    date = parts[3]  # 네 번째 줄이 날짜\n",
    "    text =parts[4]\n",
    "    \n",
    "    return pd.Series([name, user_id, date, text])"
   ]
  },
  {
   "cell_type": "code",
   "execution_count": 75,
   "id": "c633de23",
   "metadata": {},
   "outputs": [
    {
     "name": "stdout",
     "output_type": "stream",
     "text": [
      "                name                id    date  \\\n",
      "0    Donald J. Trump  @realDonaldTrump  Aug 31   \n",
      "1    Donald J. Trump  @realDonaldTrump  Aug 31   \n",
      "2    Donald J. Trump  @realDonaldTrump  Aug 31   \n",
      "3    Donald J. Trump  @realDonaldTrump  Aug 31   \n",
      "4    Donald J. Trump  @realDonaldTrump  Aug 31   \n",
      "..               ...               ...     ...   \n",
      "149  Donald J. Trump  @realDonaldTrump  Oct 30   \n",
      "150  Donald J. Trump  @realDonaldTrump  Oct 30   \n",
      "151  Donald J. Trump  @realDonaldTrump  Oct 29   \n",
      "152  Donald J. Trump  @realDonaldTrump  Oct 30   \n",
      "153  Donald J. Trump  @realDonaldTrump  Oct 30   \n",
      "\n",
      "                                                  text  \n",
      "0    Kamala Harris is the Weakest Presidential Cand...  \n",
      "1    I look so forward to Debating Comrade Kamala H...  \n",
      "2        COMRADE KAMALA: “MY VALUES HAVE NOT CHANGED.”  \n",
      "3    Think of it, America, Pocahontas, sometimes re...  \n",
      "4            A great evening in Washington, D.C. with   \n",
      "..                                                 ...  \n",
      "149  Kamala is now running billboards near the Bord...  \n",
      "150        THANK YOU—DREXEL HILL, PENNSYLVANIA! VOTE!!  \n",
      "151  Jerrod Sessler is a fantastic Candidate and wi...  \n",
      "152  The Democrats have not only greatly demeaned a...  \n",
      "153  I will be doing a Major Interview on The Sean ...  \n",
      "\n",
      "[154 rows x 4 columns]\n"
     ]
    }
   ],
   "source": [
    "# 새로운 열로 분리하여 저장\n",
    "trump[['name', 'id', 'date', 'text']] = trump.apply(split_text, axis=1)\n",
    "\n",
    "# 결과 확인\n",
    "print(trump[['name', 'id', 'date', 'text']])"
   ]
  },
  {
   "cell_type": "code",
   "execution_count": 76,
   "id": "24d2e49c",
   "metadata": {},
   "outputs": [
    {
     "name": "stdout",
     "output_type": "stream",
     "text": [
      "                             name   id    date  \\\n",
      "0    Vice President Kamala Harris  @VP   Sep 1   \n",
      "1    Vice President Kamala Harris  @VP   Sep 1   \n",
      "2    Vice President Kamala Harris  @VP  Aug 31   \n",
      "3    Vice President Kamala Harris  @VP   Sep 1   \n",
      "4    Vice President Kamala Harris  @VP   Sep 1   \n",
      "..                            ...  ...     ...   \n",
      "187  Vice President Kamala Harris  @VP  Oct 29   \n",
      "188  Vice President Kamala Harris  @VP  Oct 30   \n",
      "189  Vice President Kamala Harris  @VP  Oct 30   \n",
      "190  Vice President Kamala Harris  @VP  Oct 31   \n",
      "191  Vice President Kamala Harris  @VP  Oct 31   \n",
      "\n",
      "                                                  text  \n",
      "0    On Overdose Awareness Day, we remember Tiarra,...  \n",
      "1                                         Replying to   \n",
      "2    President Biden and I are lowering costs and m...  \n",
      "3    The number of overdose deaths in the United St...  \n",
      "4    On October 7, Hersh Goldberg-Polin — an Americ...  \n",
      "..                                                 ...  \n",
      "187  We are building an economy where every America...  \n",
      "188  Health care should be a right — not just a pri...  \n",
      "189  More than 1 in 3 women in America live under a...  \n",
      "190  Nearly 5 million Americans have benefitted fro...  \n",
      "191  Investing in Hispanic-Serving Institutions mea...  \n",
      "\n",
      "[192 rows x 4 columns]\n"
     ]
    }
   ],
   "source": [
    "harris[['name', 'id', 'date', 'text']] = harris.apply(split_text, axis=1)\n",
    "print(harris[['name', 'id', 'date', 'text']])"
   ]
  },
  {
   "cell_type": "code",
   "execution_count": 77,
   "id": "9a332a0a",
   "metadata": {},
   "outputs": [],
   "source": [
    "harris.reset_index(drop=True, inplace=True)"
   ]
  },
  {
   "cell_type": "code",
   "execution_count": 78,
   "id": "b8eff2cd",
   "metadata": {},
   "outputs": [
    {
     "data": {
      "text/html": [
       "<div>\n",
       "<style scoped>\n",
       "    .dataframe tbody tr th:only-of-type {\n",
       "        vertical-align: middle;\n",
       "    }\n",
       "\n",
       "    .dataframe tbody tr th {\n",
       "        vertical-align: top;\n",
       "    }\n",
       "\n",
       "    .dataframe thead th {\n",
       "        text-align: right;\n",
       "    }\n",
       "</style>\n",
       "<table border=\"1\" class=\"dataframe\">\n",
       "  <thead>\n",
       "    <tr style=\"text-align: right;\">\n",
       "      <th></th>\n",
       "      <th>all_text</th>\n",
       "      <th>name</th>\n",
       "      <th>id</th>\n",
       "      <th>date</th>\n",
       "      <th>text</th>\n",
       "    </tr>\n",
       "  </thead>\n",
       "  <tbody>\n",
       "    <tr>\n",
       "      <th>0</th>\n",
       "      <td>Vice President Kamala Harris\\n@VP\\n·\\nSep 1\\nO...</td>\n",
       "      <td>Vice President Kamala Harris</td>\n",
       "      <td>@VP</td>\n",
       "      <td>Sep 1</td>\n",
       "      <td>On Overdose Awareness Day, we remember Tiarra,...</td>\n",
       "    </tr>\n",
       "    <tr>\n",
       "      <th>1</th>\n",
       "      <td>Vice President Kamala Harris\\n@VP\\n·\\nSep 1\\nR...</td>\n",
       "      <td>Vice President Kamala Harris</td>\n",
       "      <td>@VP</td>\n",
       "      <td>Sep 1</td>\n",
       "      <td>Replying to</td>\n",
       "    </tr>\n",
       "    <tr>\n",
       "      <th>2</th>\n",
       "      <td>Vice President Kamala Harris\\n@VP\\n·\\nAug 31\\n...</td>\n",
       "      <td>Vice President Kamala Harris</td>\n",
       "      <td>@VP</td>\n",
       "      <td>Aug 31</td>\n",
       "      <td>President Biden and I are lowering costs and m...</td>\n",
       "    </tr>\n",
       "    <tr>\n",
       "      <th>3</th>\n",
       "      <td>Vice President Kamala Harris\\n@VP\\n·\\nSep 1\\nT...</td>\n",
       "      <td>Vice President Kamala Harris</td>\n",
       "      <td>@VP</td>\n",
       "      <td>Sep 1</td>\n",
       "      <td>The number of overdose deaths in the United St...</td>\n",
       "    </tr>\n",
       "    <tr>\n",
       "      <th>4</th>\n",
       "      <td>Vice President Kamala Harris\\n@VP\\n·\\nSep 1\\nO...</td>\n",
       "      <td>Vice President Kamala Harris</td>\n",
       "      <td>@VP</td>\n",
       "      <td>Sep 1</td>\n",
       "      <td>On October 7, Hersh Goldberg-Polin — an Americ...</td>\n",
       "    </tr>\n",
       "    <tr>\n",
       "      <th>...</th>\n",
       "      <td>...</td>\n",
       "      <td>...</td>\n",
       "      <td>...</td>\n",
       "      <td>...</td>\n",
       "      <td>...</td>\n",
       "    </tr>\n",
       "    <tr>\n",
       "      <th>187</th>\n",
       "      <td>Vice President Kamala Harris\\n@VP\\n·\\nOct 29\\n...</td>\n",
       "      <td>Vice President Kamala Harris</td>\n",
       "      <td>@VP</td>\n",
       "      <td>Oct 29</td>\n",
       "      <td>We are building an economy where every America...</td>\n",
       "    </tr>\n",
       "    <tr>\n",
       "      <th>188</th>\n",
       "      <td>Vice President Kamala Harris\\n@VP\\n·\\nOct 30\\n...</td>\n",
       "      <td>Vice President Kamala Harris</td>\n",
       "      <td>@VP</td>\n",
       "      <td>Oct 30</td>\n",
       "      <td>Health care should be a right — not just a pri...</td>\n",
       "    </tr>\n",
       "    <tr>\n",
       "      <th>189</th>\n",
       "      <td>Vice President Kamala Harris\\n@VP\\n·\\nOct 30\\n...</td>\n",
       "      <td>Vice President Kamala Harris</td>\n",
       "      <td>@VP</td>\n",
       "      <td>Oct 30</td>\n",
       "      <td>More than 1 in 3 women in America live under a...</td>\n",
       "    </tr>\n",
       "    <tr>\n",
       "      <th>190</th>\n",
       "      <td>Vice President Kamala Harris\\n@VP\\n·\\nOct 31\\n...</td>\n",
       "      <td>Vice President Kamala Harris</td>\n",
       "      <td>@VP</td>\n",
       "      <td>Oct 31</td>\n",
       "      <td>Nearly 5 million Americans have benefitted fro...</td>\n",
       "    </tr>\n",
       "    <tr>\n",
       "      <th>191</th>\n",
       "      <td>Vice President Kamala Harris\\n@VP\\n·\\nOct 31\\n...</td>\n",
       "      <td>Vice President Kamala Harris</td>\n",
       "      <td>@VP</td>\n",
       "      <td>Oct 31</td>\n",
       "      <td>Investing in Hispanic-Serving Institutions mea...</td>\n",
       "    </tr>\n",
       "  </tbody>\n",
       "</table>\n",
       "<p>192 rows × 5 columns</p>\n",
       "</div>"
      ],
      "text/plain": [
       "                                              all_text  \\\n",
       "0    Vice President Kamala Harris\\n@VP\\n·\\nSep 1\\nO...   \n",
       "1    Vice President Kamala Harris\\n@VP\\n·\\nSep 1\\nR...   \n",
       "2    Vice President Kamala Harris\\n@VP\\n·\\nAug 31\\n...   \n",
       "3    Vice President Kamala Harris\\n@VP\\n·\\nSep 1\\nT...   \n",
       "4    Vice President Kamala Harris\\n@VP\\n·\\nSep 1\\nO...   \n",
       "..                                                 ...   \n",
       "187  Vice President Kamala Harris\\n@VP\\n·\\nOct 29\\n...   \n",
       "188  Vice President Kamala Harris\\n@VP\\n·\\nOct 30\\n...   \n",
       "189  Vice President Kamala Harris\\n@VP\\n·\\nOct 30\\n...   \n",
       "190  Vice President Kamala Harris\\n@VP\\n·\\nOct 31\\n...   \n",
       "191  Vice President Kamala Harris\\n@VP\\n·\\nOct 31\\n...   \n",
       "\n",
       "                             name   id    date  \\\n",
       "0    Vice President Kamala Harris  @VP   Sep 1   \n",
       "1    Vice President Kamala Harris  @VP   Sep 1   \n",
       "2    Vice President Kamala Harris  @VP  Aug 31   \n",
       "3    Vice President Kamala Harris  @VP   Sep 1   \n",
       "4    Vice President Kamala Harris  @VP   Sep 1   \n",
       "..                            ...  ...     ...   \n",
       "187  Vice President Kamala Harris  @VP  Oct 29   \n",
       "188  Vice President Kamala Harris  @VP  Oct 30   \n",
       "189  Vice President Kamala Harris  @VP  Oct 30   \n",
       "190  Vice President Kamala Harris  @VP  Oct 31   \n",
       "191  Vice President Kamala Harris  @VP  Oct 31   \n",
       "\n",
       "                                                  text  \n",
       "0    On Overdose Awareness Day, we remember Tiarra,...  \n",
       "1                                         Replying to   \n",
       "2    President Biden and I are lowering costs and m...  \n",
       "3    The number of overdose deaths in the United St...  \n",
       "4    On October 7, Hersh Goldberg-Polin — an Americ...  \n",
       "..                                                 ...  \n",
       "187  We are building an economy where every America...  \n",
       "188  Health care should be a right — not just a pri...  \n",
       "189  More than 1 in 3 women in America live under a...  \n",
       "190  Nearly 5 million Americans have benefitted fro...  \n",
       "191  Investing in Hispanic-Serving Institutions mea...  \n",
       "\n",
       "[192 rows x 5 columns]"
      ]
     },
     "execution_count": 78,
     "metadata": {},
     "output_type": "execute_result"
    }
   ],
   "source": [
    "harris"
   ]
  },
  {
   "cell_type": "code",
   "execution_count": 79,
   "id": "6e64b6d9",
   "metadata": {},
   "outputs": [],
   "source": [
    "trump.reset_index(drop=True, inplace=True)"
   ]
  },
  {
   "cell_type": "code",
   "execution_count": 80,
   "id": "2daf7794",
   "metadata": {},
   "outputs": [
    {
     "data": {
      "text/html": [
       "<div>\n",
       "<style scoped>\n",
       "    .dataframe tbody tr th:only-of-type {\n",
       "        vertical-align: middle;\n",
       "    }\n",
       "\n",
       "    .dataframe tbody tr th {\n",
       "        vertical-align: top;\n",
       "    }\n",
       "\n",
       "    .dataframe thead th {\n",
       "        text-align: right;\n",
       "    }\n",
       "</style>\n",
       "<table border=\"1\" class=\"dataframe\">\n",
       "  <thead>\n",
       "    <tr style=\"text-align: right;\">\n",
       "      <th></th>\n",
       "      <th>all_text</th>\n",
       "      <th>name</th>\n",
       "      <th>id</th>\n",
       "      <th>date</th>\n",
       "      <th>text</th>\n",
       "    </tr>\n",
       "  </thead>\n",
       "  <tbody>\n",
       "    <tr>\n",
       "      <th>0</th>\n",
       "      <td>Donald J. Trump\\n@realDonaldTrump\\n·\\nAug 31\\n...</td>\n",
       "      <td>Donald J. Trump</td>\n",
       "      <td>@realDonaldTrump</td>\n",
       "      <td>Aug 31</td>\n",
       "      <td>Kamala Harris is the Weakest Presidential Cand...</td>\n",
       "    </tr>\n",
       "    <tr>\n",
       "      <th>1</th>\n",
       "      <td>Donald J. Trump\\n@realDonaldTrump\\n·\\nAug 31\\n...</td>\n",
       "      <td>Donald J. Trump</td>\n",
       "      <td>@realDonaldTrump</td>\n",
       "      <td>Aug 31</td>\n",
       "      <td>I look so forward to Debating Comrade Kamala H...</td>\n",
       "    </tr>\n",
       "    <tr>\n",
       "      <th>2</th>\n",
       "      <td>Donald J. Trump\\n@realDonaldTrump\\n·\\nAug 31\\n...</td>\n",
       "      <td>Donald J. Trump</td>\n",
       "      <td>@realDonaldTrump</td>\n",
       "      <td>Aug 31</td>\n",
       "      <td>COMRADE KAMALA: “MY VALUES HAVE NOT CHANGED.”</td>\n",
       "    </tr>\n",
       "    <tr>\n",
       "      <th>3</th>\n",
       "      <td>Donald J. Trump\\n@realDonaldTrump\\n·\\nAug 31\\n...</td>\n",
       "      <td>Donald J. Trump</td>\n",
       "      <td>@realDonaldTrump</td>\n",
       "      <td>Aug 31</td>\n",
       "      <td>Think of it, America, Pocahontas, sometimes re...</td>\n",
       "    </tr>\n",
       "    <tr>\n",
       "      <th>4</th>\n",
       "      <td>Donald J. Trump\\n@realDonaldTrump\\n·\\nAug 31\\n...</td>\n",
       "      <td>Donald J. Trump</td>\n",
       "      <td>@realDonaldTrump</td>\n",
       "      <td>Aug 31</td>\n",
       "      <td>A great evening in Washington, D.C. with</td>\n",
       "    </tr>\n",
       "    <tr>\n",
       "      <th>...</th>\n",
       "      <td>...</td>\n",
       "      <td>...</td>\n",
       "      <td>...</td>\n",
       "      <td>...</td>\n",
       "      <td>...</td>\n",
       "    </tr>\n",
       "    <tr>\n",
       "      <th>149</th>\n",
       "      <td>Donald J. Trump\\n@realDonaldTrump\\n·\\nOct 30\\n...</td>\n",
       "      <td>Donald J. Trump</td>\n",
       "      <td>@realDonaldTrump</td>\n",
       "      <td>Oct 30</td>\n",
       "      <td>Kamala is now running billboards near the Bord...</td>\n",
       "    </tr>\n",
       "    <tr>\n",
       "      <th>150</th>\n",
       "      <td>Donald J. Trump\\n@realDonaldTrump\\n·\\nOct 30\\n...</td>\n",
       "      <td>Donald J. Trump</td>\n",
       "      <td>@realDonaldTrump</td>\n",
       "      <td>Oct 30</td>\n",
       "      <td>THANK YOU—DREXEL HILL, PENNSYLVANIA! VOTE!!</td>\n",
       "    </tr>\n",
       "    <tr>\n",
       "      <th>151</th>\n",
       "      <td>Donald J. Trump\\n@realDonaldTrump\\n·\\nOct 29\\n...</td>\n",
       "      <td>Donald J. Trump</td>\n",
       "      <td>@realDonaldTrump</td>\n",
       "      <td>Oct 29</td>\n",
       "      <td>Jerrod Sessler is a fantastic Candidate and wi...</td>\n",
       "    </tr>\n",
       "    <tr>\n",
       "      <th>152</th>\n",
       "      <td>Donald J. Trump\\n@realDonaldTrump\\n·\\nOct 30\\n...</td>\n",
       "      <td>Donald J. Trump</td>\n",
       "      <td>@realDonaldTrump</td>\n",
       "      <td>Oct 30</td>\n",
       "      <td>The Democrats have not only greatly demeaned a...</td>\n",
       "    </tr>\n",
       "    <tr>\n",
       "      <th>153</th>\n",
       "      <td>Donald J. Trump\\n@realDonaldTrump\\n·\\nOct 30\\n...</td>\n",
       "      <td>Donald J. Trump</td>\n",
       "      <td>@realDonaldTrump</td>\n",
       "      <td>Oct 30</td>\n",
       "      <td>I will be doing a Major Interview on The Sean ...</td>\n",
       "    </tr>\n",
       "  </tbody>\n",
       "</table>\n",
       "<p>154 rows × 5 columns</p>\n",
       "</div>"
      ],
      "text/plain": [
       "                                              all_text             name  \\\n",
       "0    Donald J. Trump\\n@realDonaldTrump\\n·\\nAug 31\\n...  Donald J. Trump   \n",
       "1    Donald J. Trump\\n@realDonaldTrump\\n·\\nAug 31\\n...  Donald J. Trump   \n",
       "2    Donald J. Trump\\n@realDonaldTrump\\n·\\nAug 31\\n...  Donald J. Trump   \n",
       "3    Donald J. Trump\\n@realDonaldTrump\\n·\\nAug 31\\n...  Donald J. Trump   \n",
       "4    Donald J. Trump\\n@realDonaldTrump\\n·\\nAug 31\\n...  Donald J. Trump   \n",
       "..                                                 ...              ...   \n",
       "149  Donald J. Trump\\n@realDonaldTrump\\n·\\nOct 30\\n...  Donald J. Trump   \n",
       "150  Donald J. Trump\\n@realDonaldTrump\\n·\\nOct 30\\n...  Donald J. Trump   \n",
       "151  Donald J. Trump\\n@realDonaldTrump\\n·\\nOct 29\\n...  Donald J. Trump   \n",
       "152  Donald J. Trump\\n@realDonaldTrump\\n·\\nOct 30\\n...  Donald J. Trump   \n",
       "153  Donald J. Trump\\n@realDonaldTrump\\n·\\nOct 30\\n...  Donald J. Trump   \n",
       "\n",
       "                   id    date  \\\n",
       "0    @realDonaldTrump  Aug 31   \n",
       "1    @realDonaldTrump  Aug 31   \n",
       "2    @realDonaldTrump  Aug 31   \n",
       "3    @realDonaldTrump  Aug 31   \n",
       "4    @realDonaldTrump  Aug 31   \n",
       "..                ...     ...   \n",
       "149  @realDonaldTrump  Oct 30   \n",
       "150  @realDonaldTrump  Oct 30   \n",
       "151  @realDonaldTrump  Oct 29   \n",
       "152  @realDonaldTrump  Oct 30   \n",
       "153  @realDonaldTrump  Oct 30   \n",
       "\n",
       "                                                  text  \n",
       "0    Kamala Harris is the Weakest Presidential Cand...  \n",
       "1    I look so forward to Debating Comrade Kamala H...  \n",
       "2        COMRADE KAMALA: “MY VALUES HAVE NOT CHANGED.”  \n",
       "3    Think of it, America, Pocahontas, sometimes re...  \n",
       "4            A great evening in Washington, D.C. with   \n",
       "..                                                 ...  \n",
       "149  Kamala is now running billboards near the Bord...  \n",
       "150        THANK YOU—DREXEL HILL, PENNSYLVANIA! VOTE!!  \n",
       "151  Jerrod Sessler is a fantastic Candidate and wi...  \n",
       "152  The Democrats have not only greatly demeaned a...  \n",
       "153  I will be doing a Major Interview on The Sean ...  \n",
       "\n",
       "[154 rows x 5 columns]"
      ]
     },
     "execution_count": 80,
     "metadata": {},
     "output_type": "execute_result"
    }
   ],
   "source": [
    "trump"
   ]
  },
  {
   "cell_type": "code",
   "execution_count": 81,
   "id": "22babc8c",
   "metadata": {},
   "outputs": [],
   "source": [
    "harris.to_csv('harris_tweet.csv')\n",
    "trump.to_csv('trump_tweet.csv')"
   ]
  },
  {
   "cell_type": "code",
   "execution_count": 82,
   "id": "88684af7",
   "metadata": {},
   "outputs": [
    {
     "name": "stdout",
     "output_type": "stream",
     "text": [
      "                                               all_text\n",
      "0     MFM\\n@mexicanfrommars\\n·\\nSep 1\\n@realDonaldTr...\n",
      "1     Trapdashian Xay\\n@xXxRaTedd\\n·\\nSep 1\\nReplyin...\n",
      "2     perico papi\\n@pericopapiii\\n·\\nSep 1\\n@realDon...\n",
      "3     Check Your Voter Registration Rainbows & Sunsh...\n",
      "4     Painter Reality Orientation\\n@arobbie\\n·\\nSep ...\n",
      "...                                                 ...\n",
      "4650  flynn Jefferson\\n@flynn_jefferson\\n·\\nOct 30\\n...\n",
      "4651  BMW WHITE SOX FAN\\n@BMWWHITESOXFAN\\n·\\nOct 30\\...\n",
      "4652  BARRY BESSER\\n@bbesser502\\n·\\nOct 30\\nReplying...\n",
      "4653  Chin Rojas\\n@nicadispatch\\n·\\nOct 30\\nReplying...\n",
      "4654  Isra\\n@Isra_weirdo\\n·\\nOct 30\\nReplying to \\n@...\n",
      "\n",
      "[4655 rows x 1 columns]\n"
     ]
    }
   ],
   "source": [
    "import pandas as pd\n",
    "\n",
    "dfs = [\n",
    "    pd.read_csv('/Users/boo/USA_President_Election/Collecting/totrump0901_0904.csv'),\n",
    "    pd.read_csv('/Users/boo/USA_President_Election/Collecting/totrump0905_0911.csv'),\n",
    "    pd.read_csv('/Users/boo/USA_President_Election/Collecting/totrump0912_0917.csv'),\n",
    "    pd.read_csv('/Users/boo/USA_President_Election/Collecting/totrump0918_.csv'),\n",
    "    pd.read_csv('/Users/boo/USA_President_Election/Collecting/totrump0923_.csv'),\n",
    "    pd.read_csv('/Users/boo/USA_President_Election/Collecting/totrump0924_.csv'),\n",
    "    pd.read_csv('/Users/boo/USA_President_Election/Collecting/totrump0926_.csv'),\n",
    "    pd.read_csv('/Users/boo/USA_President_Election/Collecting/totrump0928_.csv'),\n",
    "    pd.read_csv('/Users/boo/USA_President_Election/Collecting/totrump0930_.csv'),\n",
    "    pd.read_csv('/Users/boo/USA_President_Election/Collecting/totrump1001_.csv'),\n",
    "    pd.read_csv('/Users/boo/USA_President_Election/Collecting/totrump1013_.csv'),\n",
    "    pd.read_csv('/Users/boo/USA_President_Election/Collecting/totrump1025_.csv')\n",
    "]\n",
    "\n",
    "# 데이터프레임을 하나로 합치기\n",
    "to_trump = pd.concat(dfs, ignore_index=True)\n",
    "\n",
    "# 결합된 데이터프레임 확인\n",
    "print(to_trump)"
   ]
  },
  {
   "cell_type": "code",
   "execution_count": 83,
   "id": "f3e84db1",
   "metadata": {},
   "outputs": [],
   "source": [
    "def split_text(row):\n",
    "    try:\n",
    "        parts = row['all_text'].split('\\n')\n",
    "        \n",
    "        name = parts[0] \n",
    "        user_id = parts[1] \n",
    "        date = parts[3] \n",
    "        text = ' '.join(parts[5:])\n",
    "        \n",
    "        # Return the parts as a pandas Series\n",
    "        return pd.Series([name, user_id, date, text])\n",
    "    \n",
    "    except Exception as e:\n",
    "        # If an error occurs, return None values\n",
    "        return pd.Series([None, None, None, None])"
   ]
  },
  {
   "cell_type": "code",
   "execution_count": 84,
   "id": "80d6303d",
   "metadata": {},
   "outputs": [
    {
     "name": "stdout",
     "output_type": "stream",
     "text": [
      "                                                   name                id  \\\n",
      "0                                                   MFM  @mexicanfrommars   \n",
      "1                                       Trapdashian Xay        @xXxRaTedd   \n",
      "2                                           perico papi     @pericopapiii   \n",
      "3     Check Your Voter Registration Rainbows & Sunshine           @dthutc   \n",
      "4                           Painter Reality Orientation          @arobbie   \n",
      "...                                                 ...               ...   \n",
      "4650                                    flynn Jefferson  @flynn_jefferson   \n",
      "4651                                  BMW WHITE SOX FAN   @BMWWHITESOXFAN   \n",
      "4652                                       BARRY BESSER       @bbesser502   \n",
      "4653                                         Chin Rojas     @nicadispatch   \n",
      "4654                                               Isra      @Isra_weirdo   \n",
      "\n",
      "        date                                               text  \n",
      "0      Sep 1   is a disgraceful piece of awful. at the gun s...  \n",
      "1      Sep 1  @realDonaldTrump Trump if you would've built t...  \n",
      "2      Sep 1   you gotta let me light you up fr Lil Pump @li...  \n",
      "3      Sep 1   doesn't respect the grave of the mother of th...  \n",
      "4      Sep 1  @realDonaldTrump Comrade Trump, is it true you...  \n",
      "...      ...                                                ...  \n",
      "4650  Oct 30  @realDonaldTrump You are fucking crying already 6  \n",
      "4651  Oct 30  @realDonaldTrump I hear you’re going to Allent...  \n",
      "4652  Oct 30            @realDonaldTrump More lies, as usual! 5  \n",
      "4653  Oct 30                @realDonaldTrump Who wrote this? 44  \n",
      "4654  Oct 30              @realDonaldTrump Go vote for trump 41  \n",
      "\n",
      "[4655 rows x 4 columns]\n"
     ]
    }
   ],
   "source": [
    "# 새로운 열로 분리하여 저장\n",
    "to_trump[['name', 'id', 'date', 'text']] = to_trump.apply(split_text, axis=1)\n",
    "\n",
    "# 결과 확인\n",
    "print(to_trump[['name', 'id', 'date', 'text']])"
   ]
  },
  {
   "cell_type": "code",
   "execution_count": 85,
   "id": "cbedad53",
   "metadata": {},
   "outputs": [
    {
     "name": "stdout",
     "output_type": "stream",
     "text": [
      "all_text    0\n",
      "name        1\n",
      "id          1\n",
      "date        1\n",
      "text        1\n",
      "dtype: int64\n"
     ]
    }
   ],
   "source": [
    "print(to_trump.isna().sum())"
   ]
  },
  {
   "cell_type": "code",
   "execution_count": 86,
   "id": "4b56328e",
   "metadata": {},
   "outputs": [
    {
     "name": "stdout",
     "output_type": "stream",
     "text": [
      "all_text    0\n",
      "name        0\n",
      "id          0\n",
      "date        0\n",
      "text        0\n",
      "dtype: int64\n"
     ]
    }
   ],
   "source": [
    "to_trump = to_trump.dropna()\n",
    "\n",
    "print(to_trump.isna().sum())"
   ]
  },
  {
   "cell_type": "code",
   "execution_count": 87,
   "id": "1cb358c3",
   "metadata": {},
   "outputs": [
    {
     "data": {
      "text/plain": [
       "array(['Sep 1', 'Sep 2', 'Sep 3', 'Sep 4', 'Replying to ', 'Sep 7',\n",
       "       'Sep 8', 'Sep 9', 'Sep 10', 'Sep 11', 'Sep 12', 'Sep 13', 'Sep 14',\n",
       "       'Sep 15', 'Sep 17', 'Sep 18', 'Sep 19', 'Sep 21', 'Sep 22',\n",
       "       'Sep 23', 'Sep 24', 'Sep 25', 'Sep 26', 'Sep 27', 'Sep 28',\n",
       "       'Sep 29', 'Sep 30', 'Oct 1', 'Oct 2', 'Oct 3', 'Oct 4', 'Oct 5',\n",
       "       'Oct 6', 'Oct 8', 'Oct 9', 'Oct 10', 'Oct 11', 'Oct 12', 'Oct 13',\n",
       "       'Oct 14', 'Oct 15', 'Oct 16', 'Oct 17', 'Oct 18', 'Oct 19',\n",
       "       'Oct 20', 'Oct 21', 'Oct 22', 'Oct 23', 'Oct 24', 'Oct 25',\n",
       "       'Oct 26', 'Oct 27', 'Oct 28', 'Oct 29', 'Oct 30'], dtype=object)"
      ]
     },
     "execution_count": 87,
     "metadata": {},
     "output_type": "execute_result"
    }
   ],
   "source": [
    "to_trump.date.unique()"
   ]
  },
  {
   "cell_type": "code",
   "execution_count": 88,
   "id": "f10498f4",
   "metadata": {},
   "outputs": [],
   "source": [
    "to_trump=to_trump[to_trump['date'] != 'Replying to ']"
   ]
  },
  {
   "cell_type": "code",
   "execution_count": 89,
   "id": "e74a45a9",
   "metadata": {},
   "outputs": [],
   "source": [
    "to_trump.to_csv('to_trump.csv')"
   ]
  },
  {
   "cell_type": "code",
   "execution_count": 90,
   "id": "8ad332d0",
   "metadata": {},
   "outputs": [
    {
     "name": "stdout",
     "output_type": "stream",
     "text": [
      "                                               all_text\n",
      "0     GDawgson\\n@GaryDaw41889013\\n·\\nSep 1\\nReplying...\n",
      "1     The_Bayou_Boy\\n@_The_Bayou_Boy\\n·\\nSep 1\\nRepl...\n",
      "2     WHUDUP TRUMP 2024\\n@whudupkid\\n·\\nSep 1\\nReply...\n",
      "3     Gen X Caliber\\n@GenXCal\\n·\\nSep 1\\nReplying to...\n",
      "4     The_Bayou_Boy\\n@_The_Bayou_Boy\\n·\\nSep 1\\nRepl...\n",
      "...                                                 ...\n",
      "8112  HTK1\\n@ja4just100723\\n·\\nOct 29\\n@vp\\n @potus\\...\n",
      "8113  Frankie\\n@iamchiezeh\\n·\\nOct 29\\nReplying to \\...\n",
      "8114  Dudebuster4\\n@alshulo94\\n·\\nOct 29\\nReplying t...\n",
      "8115  Criminals4GunSafety\\n@Crimnls4Safety\\n·\\nOct 2...\n",
      "8116  Amanda\\n@Amanda43231487\\n·\\nOct 29\\n@VP\\n @Gov...\n",
      "\n",
      "[8117 rows x 1 columns]\n"
     ]
    }
   ],
   "source": [
    "dfs = [\n",
    "    pd.read_csv('/Users/boo/USA_President_Election/Collecting/toharris0901_.csv'),\n",
    "    pd.read_csv('/Users/boo/USA_President_Election/Collecting/toharris0908_0916.csv'),\n",
    "    pd.read_csv('/Users/boo/USA_President_Election/Collecting/toharris0917_.csv'),\n",
    "    pd.read_csv('/Users/boo/USA_President_Election/Collecting/toharris0923_.csv'),\n",
    "    pd.read_csv('/Users/boo/USA_President_Election/Collecting/toharris0928_.csv'),\n",
    "    pd.read_csv('/Users/boo/USA_President_Election/Collecting/toharris0929_.csv'),\n",
    "    pd.read_csv('/Users/boo/USA_President_Election/Collecting/toharris0930_.csv'),\n",
    "    pd.read_csv('/Users/boo/USA_President_Election/Collecting/toharris1005_.csv'),\n",
    "    pd.read_csv('/Users/boo/USA_President_Election/Collecting/toharris1011_.csv'),\n",
    "    pd.read_csv('/Users/boo/USA_President_Election/Collecting/toharris1021_.csv'),\n",
    "    pd.read_csv('/Users/boo/USA_President_Election/Collecting/toharris1025.csv')\n",
    "]\n",
    "\n",
    "# 데이터프레임을 하나로 합치기\n",
    "to_harris = pd.concat(dfs, ignore_index=True)\n",
    "\n",
    "# 결합된 데이터프레임 확인\n",
    "print(to_harris)"
   ]
  },
  {
   "cell_type": "code",
   "execution_count": 91,
   "id": "8f300aba",
   "metadata": {},
   "outputs": [
    {
     "name": "stdout",
     "output_type": "stream",
     "text": [
      "                     name                id    date  \\\n",
      "0                GDawgson  @GaryDaw41889013   Sep 1   \n",
      "1           The_Bayou_Boy   @_The_Bayou_Boy   Sep 1   \n",
      "2       WHUDUP TRUMP 2024        @whudupkid   Sep 1   \n",
      "3           Gen X Caliber          @GenXCal   Sep 1   \n",
      "4           The_Bayou_Boy   @_The_Bayou_Boy   Sep 1   \n",
      "...                   ...               ...     ...   \n",
      "8112                 HTK1    @ja4just100723  Oct 29   \n",
      "8113              Frankie       @iamchiezeh  Oct 29   \n",
      "8114          Dudebuster4        @alshulo94  Oct 29   \n",
      "8115  Criminals4GunSafety   @Crimnls4Safety  Oct 29   \n",
      "8116               Amanda   @Amanda43231487  Oct 29   \n",
      "\n",
      "                                                   text  \n",
      "0     @VP Where?  I definitely don’t see it anywhere...  \n",
      "1           @VP Inflation By Administration… 30 67 1.4K  \n",
      "2              @VP Her open border fentanyl deaths 5 54  \n",
      "3             @VP Nobody is thriving, you’re garbage. 9  \n",
      "4     @VP Overdoses Kill 300 People Per DAY…  You’re...  \n",
      "...                                                 ...  \n",
      "8112   @potus  UNRWA is a cesspool of filth! Good ri...  \n",
      "8113                   @VP Huge blow for Democrat. 1 45  \n",
      "8114  @VP I remember you saying that you’re in the w...  \n",
      "8115  @VP Our union backs you as you back us with yo...  \n",
      "8116   @GovTimWalz  So what are YOU going to do abou...  \n",
      "\n",
      "[8117 rows x 4 columns]\n"
     ]
    }
   ],
   "source": [
    "# 새로운 열로 분리하여 저장\n",
    "to_harris[['name', 'id', 'date', 'text']] = to_harris.apply(split_text, axis=1)\n",
    "\n",
    "# 결과 확인\n",
    "print(to_harris[['name', 'id', 'date', 'text']])"
   ]
  },
  {
   "cell_type": "code",
   "execution_count": 92,
   "id": "cb16f8f1",
   "metadata": {},
   "outputs": [
    {
     "name": "stdout",
     "output_type": "stream",
     "text": [
      "all_text     0\n",
      "name        50\n",
      "id          50\n",
      "date        50\n",
      "text        50\n",
      "dtype: int64\n"
     ]
    }
   ],
   "source": [
    "print(to_harris.isna().sum())"
   ]
  },
  {
   "cell_type": "code",
   "execution_count": 93,
   "id": "047c4940",
   "metadata": {},
   "outputs": [
    {
     "name": "stdout",
     "output_type": "stream",
     "text": [
      "all_text    0\n",
      "name        0\n",
      "id          0\n",
      "date        0\n",
      "text        0\n",
      "dtype: int64\n"
     ]
    }
   ],
   "source": [
    "to_trump = to_trump.dropna()\n",
    "\n",
    "print(to_trump.isna().sum())"
   ]
  },
  {
   "cell_type": "code",
   "execution_count": 94,
   "id": "8013c4dc",
   "metadata": {},
   "outputs": [
    {
     "data": {
      "text/plain": [
       "array(['Sep 1', '9월 2일', '@VP', 'Sep 3', 'Sep 4', 'Sep 5', 'Sep 6',\n",
       "       'Sep 7', 'Sep 8', 'Sep 9', 'Sep 10', 'Sep 11', 'Sep 12', 'Sep 13',\n",
       "       'Sep 14', 'Sep 15', 'Sep 16', 'Sep 17', 'Sep 18', 'Sep 19',\n",
       "       'Sep 20', 'Sep 21', 'Sep 22', 'Sep 23', 'Sep 24', 'Sep 25',\n",
       "       'Sep 26', 'Sep 27', 'Sep 28', 'Sep 29', 'Sep 30', 'Oct 1', 'Oct 2',\n",
       "       'Oct 3', 'Oct 4', 'Oct 5', 'Oct 6', 'Oct 7', 'Oct 9', 'Oct 10',\n",
       "       'Oct 13', 'Oct 14', None, 'Oct 15', 'Oct 16', 'Oct 17', 'Oct 18',\n",
       "       'Oct 19', 'Oct 20', 'Oct 21', 'Oct 22', 'Oct 24', 'Oct 25',\n",
       "       'Oct 26', 'Oct 27', 'Oct 28', 'Oct 29'], dtype=object)"
      ]
     },
     "execution_count": 94,
     "metadata": {},
     "output_type": "execute_result"
    }
   ],
   "source": [
    "to_harris.date.unique()"
   ]
  },
  {
   "cell_type": "code",
   "execution_count": 95,
   "id": "be5efe25",
   "metadata": {},
   "outputs": [],
   "source": [
    "to_harris.loc[to_harris['date'] == '9월 2일', 'date'] = 'Sep 2'"
   ]
  },
  {
   "cell_type": "code",
   "execution_count": 96,
   "id": "ed793032",
   "metadata": {},
   "outputs": [],
   "source": [
    "to_harris=to_harris[to_harris['date'] != '@VP']"
   ]
  },
  {
   "cell_type": "code",
   "execution_count": 97,
   "id": "b44e9f0b",
   "metadata": {},
   "outputs": [],
   "source": [
    "to_harris=to_harris[to_harris['date'] != 'None']"
   ]
  },
  {
   "cell_type": "code",
   "execution_count": 98,
   "id": "2973a9eb",
   "metadata": {},
   "outputs": [
    {
     "data": {
      "text/plain": [
       "array(['Sep 1', 'Sep 2', 'Sep 3', 'Sep 4', 'Sep 5', 'Sep 6', 'Sep 7',\n",
       "       'Sep 8', 'Sep 9', 'Sep 10', 'Sep 11', 'Sep 12', 'Sep 13', 'Sep 14',\n",
       "       'Sep 15', 'Sep 16', 'Sep 17', 'Sep 18', 'Sep 19', 'Sep 20',\n",
       "       'Sep 21', 'Sep 22', 'Sep 23', 'Sep 24', 'Sep 25', 'Sep 26',\n",
       "       'Sep 27', 'Sep 28', 'Sep 29', 'Sep 30', 'Oct 1', 'Oct 2', 'Oct 3',\n",
       "       'Oct 4', 'Oct 5', 'Oct 6', 'Oct 7', 'Oct 9', 'Oct 10', 'Oct 13',\n",
       "       'Oct 14', None, 'Oct 15', 'Oct 16', 'Oct 17', 'Oct 18', 'Oct 19',\n",
       "       'Oct 20', 'Oct 21', 'Oct 22', 'Oct 24', 'Oct 25', 'Oct 26',\n",
       "       'Oct 27', 'Oct 28', 'Oct 29'], dtype=object)"
      ]
     },
     "execution_count": 98,
     "metadata": {},
     "output_type": "execute_result"
    }
   ],
   "source": [
    "to_harris.date.unique()"
   ]
  },
  {
   "cell_type": "code",
   "execution_count": 99,
   "id": "e81e71d0",
   "metadata": {},
   "outputs": [],
   "source": [
    "to_harris.to_csv('to_harris.csv')"
   ]
  },
  {
   "cell_type": "markdown",
   "id": "cd7c7575",
   "metadata": {},
   "source": [
    "# Debate"
   ]
  },
  {
   "cell_type": "code",
   "execution_count": 18,
   "id": "32e3a7d8",
   "metadata": {},
   "outputs": [],
   "source": [
    "import pandas as pd\n",
    "debate=pd.read_csv(\"/Users/boo/USA_President_Election/Collecting/2024-09-10-abc-trump-harris-debate.csv\")"
   ]
  },
  {
   "cell_type": "code",
   "execution_count": 19,
   "id": "09869000",
   "metadata": {},
   "outputs": [
    {
     "data": {
      "text/html": [
       "<div>\n",
       "<style scoped>\n",
       "    .dataframe tbody tr th:only-of-type {\n",
       "        vertical-align: middle;\n",
       "    }\n",
       "\n",
       "    .dataframe tbody tr th {\n",
       "        vertical-align: top;\n",
       "    }\n",
       "\n",
       "    .dataframe thead th {\n",
       "        text-align: right;\n",
       "    }\n",
       "</style>\n",
       "<table border=\"1\" class=\"dataframe\">\n",
       "  <thead>\n",
       "    <tr style=\"text-align: right;\">\n",
       "      <th></th>\n",
       "      <th>speaker</th>\n",
       "      <th>text</th>\n",
       "    </tr>\n",
       "  </thead>\n",
       "  <tbody>\n",
       "    <tr>\n",
       "      <th>0</th>\n",
       "      <td>DAVID MUIR</td>\n",
       "      <td>Tonight, the high-stakes showdown here in Phil...</td>\n",
       "    </tr>\n",
       "    <tr>\n",
       "      <th>1</th>\n",
       "      <td>LINSEY DAVIS</td>\n",
       "      <td>A historic race for president upended just wee...</td>\n",
       "    </tr>\n",
       "    <tr>\n",
       "      <th>2</th>\n",
       "      <td>DAVID MUIR</td>\n",
       "      <td>The candidates separated by the smallest of ma...</td>\n",
       "    </tr>\n",
       "    <tr>\n",
       "      <th>3</th>\n",
       "      <td>LINSEY DAVIS</td>\n",
       "      <td>And I'm Linsey Davis. Tonight's meeting could ...</td>\n",
       "    </tr>\n",
       "    <tr>\n",
       "      <th>4</th>\n",
       "      <td>DAVID MUIR</td>\n",
       "      <td>And that brings us to the rules of tonight's d...</td>\n",
       "    </tr>\n",
       "  </tbody>\n",
       "</table>\n",
       "</div>"
      ],
      "text/plain": [
       "        speaker                                               text\n",
       "0    DAVID MUIR  Tonight, the high-stakes showdown here in Phil...\n",
       "1  LINSEY DAVIS  A historic race for president upended just wee...\n",
       "2    DAVID MUIR  The candidates separated by the smallest of ma...\n",
       "3  LINSEY DAVIS  And I'm Linsey Davis. Tonight's meeting could ...\n",
       "4    DAVID MUIR  And that brings us to the rules of tonight's d..."
      ]
     },
     "execution_count": 19,
     "metadata": {},
     "output_type": "execute_result"
    }
   ],
   "source": [
    "debate.head()"
   ]
  },
  {
   "cell_type": "code",
   "execution_count": 20,
   "id": "2cd5fc98",
   "metadata": {},
   "outputs": [
    {
     "data": {
      "text/html": [
       "<div>\n",
       "<style scoped>\n",
       "    .dataframe tbody tr th:only-of-type {\n",
       "        vertical-align: middle;\n",
       "    }\n",
       "\n",
       "    .dataframe tbody tr th {\n",
       "        vertical-align: top;\n",
       "    }\n",
       "\n",
       "    .dataframe thead th {\n",
       "        text-align: right;\n",
       "    }\n",
       "</style>\n",
       "<table border=\"1\" class=\"dataframe\">\n",
       "  <thead>\n",
       "    <tr style=\"text-align: right;\">\n",
       "      <th></th>\n",
       "      <th>speaker</th>\n",
       "      <th>text</th>\n",
       "    </tr>\n",
       "  </thead>\n",
       "  <tbody>\n",
       "    <tr>\n",
       "      <th>206</th>\n",
       "      <td>KAMALA HARRIS</td>\n",
       "      <td>So I think you've heard tonight two very diffe...</td>\n",
       "    </tr>\n",
       "    <tr>\n",
       "      <th>207</th>\n",
       "      <td>LINSEY DAVIS</td>\n",
       "      <td>Vice President Harris, thank you. President Tr...</td>\n",
       "    </tr>\n",
       "    <tr>\n",
       "      <th>208</th>\n",
       "      <td>DONALD TRUMP</td>\n",
       "      <td>So, she just started by saying she's going to ...</td>\n",
       "    </tr>\n",
       "    <tr>\n",
       "      <th>209</th>\n",
       "      <td>LINSEY DAVIS</td>\n",
       "      <td>President Trump thank you. And that is our ABC...</td>\n",
       "    </tr>\n",
       "    <tr>\n",
       "      <th>210</th>\n",
       "      <td>DAVID MUIR</td>\n",
       "      <td>And I'm David Muir. Thank you for watching her...</td>\n",
       "    </tr>\n",
       "  </tbody>\n",
       "</table>\n",
       "</div>"
      ],
      "text/plain": [
       "           speaker                                               text\n",
       "206  KAMALA HARRIS  So I think you've heard tonight two very diffe...\n",
       "207   LINSEY DAVIS  Vice President Harris, thank you. President Tr...\n",
       "208   DONALD TRUMP  So, she just started by saying she's going to ...\n",
       "209   LINSEY DAVIS  President Trump thank you. And that is our ABC...\n",
       "210     DAVID MUIR  And I'm David Muir. Thank you for watching her..."
      ]
     },
     "execution_count": 20,
     "metadata": {},
     "output_type": "execute_result"
    }
   ],
   "source": [
    "debate.tail()"
   ]
  },
  {
   "cell_type": "code",
   "execution_count": 21,
   "id": "0ab7c061",
   "metadata": {},
   "outputs": [],
   "source": [
    "debate_trump=debate[debate['speaker']=='DONALD TRUMP']\n",
    "debate_harris=debate[debate['speaker']=='KAMALA HARRIS']"
   ]
  },
  {
   "cell_type": "code",
   "execution_count": 22,
   "id": "ae3c2938",
   "metadata": {},
   "outputs": [
    {
     "name": "stdout",
     "output_type": "stream",
     "text": [
      "         speaker                                               text\n",
      "8   DONALD TRUMP                         Nice to see you. Have fun.\n",
      "10  DONALD TRUMP                                         Thank you.\n",
      "16  DONALD TRUMP  First of all, I have no sales tax. That's an i...\n",
      "20  DONALD TRUMP  Number one, I have nothing to do, as you know ...\n",
      "23  DONALD TRUMP  That's just a sound bite. They gave her that t...\n",
      "          speaker                                               text\n",
      "7   KAMALA HARRIS           Kamala Harris. Let's have a good debate.\n",
      "9   KAMALA HARRIS                                         Thank you.\n",
      "14  KAMALA HARRIS  So, I was raised as a middle-class kid. And I ...\n",
      "18  KAMALA HARRIS  Well, I would love to. Let's talk about what D...\n",
      "22  KAMALA HARRIS  So, Donald Trump has no plan for you. And when...\n"
     ]
    }
   ],
   "source": [
    "print(debate_trump.head())\n",
    "print(debate_harris.head())"
   ]
  },
  {
   "cell_type": "code",
   "execution_count": 23,
   "id": "8cc5392f",
   "metadata": {},
   "outputs": [],
   "source": [
    "debate_trump.reset_index(drop=True,inplace=True)\n",
    "debate_harris.reset_index(drop=True,inplace=True)"
   ]
  },
  {
   "cell_type": "code",
   "execution_count": 24,
   "id": "10a09f2b",
   "metadata": {},
   "outputs": [
    {
     "name": "stdout",
     "output_type": "stream",
     "text": [
      "        speaker                                               text\n",
      "0  DONALD TRUMP                         Nice to see you. Have fun.\n",
      "1  DONALD TRUMP                                         Thank you.\n",
      "2  DONALD TRUMP  First of all, I have no sales tax. That's an i...\n",
      "3  DONALD TRUMP  Number one, I have nothing to do, as you know ...\n",
      "4  DONALD TRUMP  That's just a sound bite. They gave her that t...\n",
      "         speaker                                               text\n",
      "0  KAMALA HARRIS           Kamala Harris. Let's have a good debate.\n",
      "1  KAMALA HARRIS                                         Thank you.\n",
      "2  KAMALA HARRIS  So, I was raised as a middle-class kid. And I ...\n",
      "3  KAMALA HARRIS  Well, I would love to. Let's talk about what D...\n",
      "4  KAMALA HARRIS  So, Donald Trump has no plan for you. And when...\n"
     ]
    }
   ],
   "source": [
    "print(debate_trump.head())\n",
    "print(debate_harris.head())"
   ]
  },
  {
   "cell_type": "code",
   "execution_count": 26,
   "id": "cba4e9d8",
   "metadata": {},
   "outputs": [],
   "source": [
    "debate_trump.to_csv('trump_debate.csv')\n",
    "debate_harris.to_csv('harris_debte.csv')"
   ]
  },
  {
   "cell_type": "markdown",
   "id": "83c8419e",
   "metadata": {},
   "source": [
    "# News"
   ]
  },
  {
   "cell_type": "code",
   "execution_count": 1,
   "id": "90e94eee",
   "metadata": {},
   "outputs": [],
   "source": [
    "import pandas as pd\n",
    "reason=pd.read_csv(\"/Users/boo/USA_President_Election/Collecting/reason.csv\")\n",
    "cbs=pd.read_csv('/Users/boo/USA_President_Election/Collecting/cbs.csv')\n",
    "npr=pd.read_csv('/Users/boo/USA_President_Election/Collecting/npr.csv')"
   ]
  },
  {
   "cell_type": "code",
   "execution_count": 2,
   "id": "a965752d",
   "metadata": {},
   "outputs": [
    {
     "data": {
      "text/html": [
       "<div>\n",
       "<style scoped>\n",
       "    .dataframe tbody tr th:only-of-type {\n",
       "        vertical-align: middle;\n",
       "    }\n",
       "\n",
       "    .dataframe tbody tr th {\n",
       "        vertical-align: top;\n",
       "    }\n",
       "\n",
       "    .dataframe thead th {\n",
       "        text-align: right;\n",
       "    }\n",
       "</style>\n",
       "<table border=\"1\" class=\"dataframe\">\n",
       "  <thead>\n",
       "    <tr style=\"text-align: right;\">\n",
       "      <th></th>\n",
       "      <th>headlines</th>\n",
       "      <th>date</th>\n",
       "      <th>Press</th>\n",
       "      <th>Link</th>\n",
       "      <th>category</th>\n",
       "      <th>text</th>\n",
       "    </tr>\n",
       "  </thead>\n",
       "  <tbody>\n",
       "    <tr>\n",
       "      <th>0</th>\n",
       "      <td>Compendium of Writings About the 2024 Election...</td>\n",
       "      <td>[&lt;time class=\"updated\" datetime=\"2024-10-31T16...</td>\n",
       "      <td>reason</td>\n",
       "      <td>https://reason.com/volokh/2024/10/31/compendiu...</td>\n",
       "      <td>Election 2024</td>\n",
       "      <td>As election day approaches, here are links to ...</td>\n",
       "    </tr>\n",
       "    <tr>\n",
       "      <th>1</th>\n",
       "      <td>Newspaper Endorsements Die in Daylight</td>\n",
       "      <td>[&lt;time class=\"updated\" datetime=\"2024-10-31T13...</td>\n",
       "      <td>reason</td>\n",
       "      <td>https://reason.com/2024/10/31/newspaper-endors...</td>\n",
       "      <td>Media Criticism</td>\n",
       "      <td>It sure has been a banner week for the triple ...</td>\n",
       "    </tr>\n",
       "    <tr>\n",
       "      <th>2</th>\n",
       "      <td>Dave Smith, David Stockman, and Jacob Grier: W...</td>\n",
       "      <td>[&lt;time class=\"updated\" datetime=\"2024-10-31T13...</td>\n",
       "      <td>reason</td>\n",
       "      <td>https://reason.com/podcast/2024/10/31/dave-smi...</td>\n",
       "      <td>Election 2024</td>\n",
       "      <td>HD Video DownloadIs this the most important el...</td>\n",
       "    </tr>\n",
       "    <tr>\n",
       "      <th>3</th>\n",
       "      <td>Live On Election Eve With The Reason Roundtable!</td>\n",
       "      <td>[&lt;time class=\"updated\" datetime=\"2024-10-31T11...</td>\n",
       "      <td>reason</td>\n",
       "      <td>https://reason.com/podcast/2024/10/31/live-on-...</td>\n",
       "      <td>Election 2024</td>\n",
       "      <td>Will Election 2024 result in an orderly transf...</td>\n",
       "    </tr>\n",
       "    <tr>\n",
       "      <th>4</th>\n",
       "      <td>To Get Through the Election, Use Ozempic</td>\n",
       "      <td>[&lt;time class=\"updated\" datetime=\"2024-10-30T16...</td>\n",
       "      <td>reason</td>\n",
       "      <td>https://reason.com/2024/10/30/to-get-through-t...</td>\n",
       "      <td>Election 2024</td>\n",
       "      <td>The two major party candidates provide ample r...</td>\n",
       "    </tr>\n",
       "  </tbody>\n",
       "</table>\n",
       "</div>"
      ],
      "text/plain": [
       "                                           headlines  \\\n",
       "0  Compendium of Writings About the 2024 Election...   \n",
       "1             Newspaper Endorsements Die in Daylight   \n",
       "2  Dave Smith, David Stockman, and Jacob Grier: W...   \n",
       "3   Live On Election Eve With The Reason Roundtable!   \n",
       "4           To Get Through the Election, Use Ozempic   \n",
       "\n",
       "                                                date   Press  \\\n",
       "0  [<time class=\"updated\" datetime=\"2024-10-31T16...  reason   \n",
       "1  [<time class=\"updated\" datetime=\"2024-10-31T13...  reason   \n",
       "2  [<time class=\"updated\" datetime=\"2024-10-31T13...  reason   \n",
       "3  [<time class=\"updated\" datetime=\"2024-10-31T11...  reason   \n",
       "4  [<time class=\"updated\" datetime=\"2024-10-30T16...  reason   \n",
       "\n",
       "                                                Link         category  \\\n",
       "0  https://reason.com/volokh/2024/10/31/compendiu...    Election 2024   \n",
       "1  https://reason.com/2024/10/31/newspaper-endors...  Media Criticism   \n",
       "2  https://reason.com/podcast/2024/10/31/dave-smi...    Election 2024   \n",
       "3  https://reason.com/podcast/2024/10/31/live-on-...    Election 2024   \n",
       "4  https://reason.com/2024/10/30/to-get-through-t...    Election 2024   \n",
       "\n",
       "                                                text  \n",
       "0  As election day approaches, here are links to ...  \n",
       "1  It sure has been a banner week for the triple ...  \n",
       "2  HD Video DownloadIs this the most important el...  \n",
       "3  Will Election 2024 result in an orderly transf...  \n",
       "4  The two major party candidates provide ample r...  "
      ]
     },
     "execution_count": 2,
     "metadata": {},
     "output_type": "execute_result"
    }
   ],
   "source": [
    "reason.head()"
   ]
  },
  {
   "cell_type": "code",
   "execution_count": 3,
   "id": "937cf837",
   "metadata": {},
   "outputs": [],
   "source": [
    "import re\n",
    "from datetime import datetime\n",
    "import pandas as pd\n",
    "\n",
    "# 함수 정의: HTML 태그에서 datetime 값을 추출하고 변환\n",
    "def extract_and_format_date(date_str):\n",
    "    match = re.search(r'datetime=\"([^\"]+)\"', date_str)\n",
    "    if match:\n",
    "        iso_date = match.group(1)\n",
    "        parsed_date = datetime.fromisoformat(iso_date)\n",
    "        return parsed_date.strftime(\"%B %d, %Y\")\n",
    "    return None  # datetime 값이 없을 경우\n",
    "\n",
    "reason['date'] = reason['date'].apply(extract_and_format_date)"
   ]
  },
  {
   "cell_type": "code",
   "execution_count": 4,
   "id": "c36b302d",
   "metadata": {},
   "outputs": [
    {
     "data": {
      "text/plain": [
       "array(['October 31, 2024', 'October 30, 2024', 'October 29, 2024',\n",
       "       'October 28, 2024', 'October 25, 2024', 'October 24, 2024',\n",
       "       'October 23, 2024', 'October 22, 2024', 'October 21, 2024',\n",
       "       'October 20, 2024', 'October 19, 2024', 'October 18, 2024',\n",
       "       'October 17, 2024', 'October 16, 2024', 'October 15, 2024',\n",
       "       'October 14, 2024', 'October 11, 2024', 'October 10, 2024',\n",
       "       'October 09, 2024', 'October 08, 2024', 'October 07, 2024',\n",
       "       'October 05, 2024', 'October 04, 2024', 'October 03, 2024',\n",
       "       'October 02, 2024', 'October 01, 2024', 'September 30, 2024',\n",
       "       'September 27, 2024', 'September 26, 2024', 'September 25, 2024',\n",
       "       'September 24, 2024', 'September 23, 2024', 'September 20, 2024',\n",
       "       'September 19, 2024', 'September 18, 2024', 'September 16, 2024',\n",
       "       'September 15, 2024', 'September 13, 2024', 'September 12, 2024',\n",
       "       'September 11, 2024', 'September 10, 2024', 'September 09, 2024',\n",
       "       'September 06, 2024', 'September 05, 2024', 'September 04, 2024',\n",
       "       'September 03, 2024', 'September 02, 2024', 'September 01, 2024',\n",
       "       'August 31, 2024', 'August 30, 2024', 'August 29, 2024',\n",
       "       'August 28, 2024', 'August 27, 2024', 'August 26, 2024',\n",
       "       'August 23, 2024', 'August 22, 2024'], dtype=object)"
      ]
     },
     "execution_count": 4,
     "metadata": {},
     "output_type": "execute_result"
    }
   ],
   "source": [
    "reason['date'].unique()"
   ]
  },
  {
   "cell_type": "code",
   "execution_count": 5,
   "id": "3d891a61",
   "metadata": {},
   "outputs": [
    {
     "data": {
      "text/html": [
       "<div>\n",
       "<style scoped>\n",
       "    .dataframe tbody tr th:only-of-type {\n",
       "        vertical-align: middle;\n",
       "    }\n",
       "\n",
       "    .dataframe tbody tr th {\n",
       "        vertical-align: top;\n",
       "    }\n",
       "\n",
       "    .dataframe thead th {\n",
       "        text-align: right;\n",
       "    }\n",
       "</style>\n",
       "<table border=\"1\" class=\"dataframe\">\n",
       "  <thead>\n",
       "    <tr style=\"text-align: right;\">\n",
       "      <th></th>\n",
       "      <th>title</th>\n",
       "      <th>date</th>\n",
       "      <th>Press</th>\n",
       "      <th>content</th>\n",
       "    </tr>\n",
       "  </thead>\n",
       "  <tbody>\n",
       "    <tr>\n",
       "      <th>0</th>\n",
       "      <td>Harris campaign leans into her HBCU roots</td>\n",
       "      <td>4H ago</td>\n",
       "      <td>cbs</td>\n",
       "      <td>Howard University is where Vice President Kama...</td>\n",
       "    </tr>\n",
       "    <tr>\n",
       "      <th>1</th>\n",
       "      <td>Arizona counties invest millions to reassure v...</td>\n",
       "      <td>7H ago</td>\n",
       "      <td>cbs</td>\n",
       "      <td>Flagstaff, Arizona — Laura Huenneke, secretary...</td>\n",
       "    </tr>\n",
       "    <tr>\n",
       "      <th>2</th>\n",
       "      <td>Alito denies Cornel West bid for intervention ...</td>\n",
       "      <td>9H ago</td>\n",
       "      <td>cbs</td>\n",
       "      <td>Washington — Justice Samuel Alito on Thursday ...</td>\n",
       "    </tr>\n",
       "    <tr>\n",
       "      <th>3</th>\n",
       "      <td>Walz's closing campaign message to air on \"The...</td>\n",
       "      <td>10H ago</td>\n",
       "      <td>cbs</td>\n",
       "      <td>Minnesota Gov. Tim Walz, the Democratic vice p...</td>\n",
       "    </tr>\n",
       "    <tr>\n",
       "      <th>4</th>\n",
       "      <td>Trump's wealth slumps by $1.9 billion amid DJT...</td>\n",
       "      <td>14H ago</td>\n",
       "      <td>cbs</td>\n",
       "      <td>Updated on:  October 31, 2024 / 4:56 PM EDT\\n ...</td>\n",
       "    </tr>\n",
       "  </tbody>\n",
       "</table>\n",
       "</div>"
      ],
      "text/plain": [
       "                                               title     date Press  \\\n",
       "0          Harris campaign leans into her HBCU roots   4H ago   cbs   \n",
       "1  Arizona counties invest millions to reassure v...   7H ago   cbs   \n",
       "2  Alito denies Cornel West bid for intervention ...   9H ago   cbs   \n",
       "3  Walz's closing campaign message to air on \"The...  10H ago   cbs   \n",
       "4  Trump's wealth slumps by $1.9 billion amid DJT...  14H ago   cbs   \n",
       "\n",
       "                                             content  \n",
       "0  Howard University is where Vice President Kama...  \n",
       "1  Flagstaff, Arizona — Laura Huenneke, secretary...  \n",
       "2  Washington — Justice Samuel Alito on Thursday ...  \n",
       "3  Minnesota Gov. Tim Walz, the Democratic vice p...  \n",
       "4  Updated on:  October 31, 2024 / 4:56 PM EDT\\n ...  "
      ]
     },
     "execution_count": 5,
     "metadata": {},
     "output_type": "execute_result"
    }
   ],
   "source": [
    "cbs.head()"
   ]
  },
  {
   "cell_type": "code",
   "execution_count": 6,
   "id": "2aad6b58",
   "metadata": {},
   "outputs": [],
   "source": [
    "import pandas as pd\n",
    "from datetime import datetime, timedelta\n",
    "import re\n",
    "\n",
    "# 현재 시간\n",
    "current_time = datetime.now()\n",
    "\n",
    "# 함수 정의: 상대적인 시간을 현재 시간으로 변환\n",
    "def convert_relative_time(time_str):\n",
    "    # 상대적인 시간 형식 처리 (예: '3H ago', '7H ago')\n",
    "    match = re.match(r\"(\\d+)([A-Za-z]+) ago\", time_str)\n",
    "    if match:\n",
    "        value, unit = int(match.group(1)), match.group(2)\n",
    "        \n",
    "        # 시간 단위에 따른 계산\n",
    "        if unit == 'H':  # 시간 전\n",
    "            delta = timedelta(hours=value)\n",
    "        elif unit == 'D':  # 일 전\n",
    "            delta = timedelta(days=value)\n",
    "        elif unit == 'W':  # 주 전\n",
    "            delta = timedelta(weeks=value)\n",
    "        else:\n",
    "            return time_str  # 해당하는 단위가 없으면 그대로 반환\n",
    "\n",
    "        # 현재 시간에서 delta만큼 뺀 시간 계산\n",
    "        absolute_time = current_time - delta\n",
    "        return absolute_time.strftime(\"%B %d, %Y\")  # 원하는 날짜와 시간 형식\n",
    "    else:\n",
    "        try:\n",
    "            # 이미 있는 날짜 형식 처리 (예: 'Oct 6')\n",
    "            return datetime.strptime(time_str, \"%b %d\").replace(year=current_time.year).strftime(\"%B %d, %Y\")\n",
    "        except ValueError:\n",
    "            # 다른 형식이 있을 경우 그대로 반환\n",
    "            return time_str\n",
    "\n",
    "# cbs['date']에 변환 함수 적용\n",
    "cbs['date'] = cbs['date'].apply(convert_relative_time)"
   ]
  },
  {
   "cell_type": "code",
   "execution_count": 7,
   "id": "869018bf",
   "metadata": {},
   "outputs": [
    {
     "data": {
      "text/plain": [
       "array(['November 02, 2024', 'November 01, 2024', 'October 30, 2024',\n",
       "       'October 29, 2024', 'October 28, 2024', 'October 27, 2024',\n",
       "       'October 26, 2024', 'October 25, 2024', 'October 24, 2024',\n",
       "       'October 23, 2024', 'October 22, 2024', 'October 21, 2024',\n",
       "       'October 20, 2024', 'October 19, 2024', 'October 18, 2024',\n",
       "       'October 17, 2024', 'October 16, 2024', 'October 15, 2024',\n",
       "       'October 14, 2024', 'October 13, 2024', 'October 12, 2024',\n",
       "       'October 11, 2024', 'October 10, 2024', 'October 09, 2024',\n",
       "       'October 08, 2024', 'October 07, 2024', 'October 06, 2024',\n",
       "       'October 04, 2024', 'October 03, 2024', 'October 02, 2024',\n",
       "       'October 01, 2024', 'September 30, 2024', 'September 29, 2024',\n",
       "       'September 28, 2024', 'September 27, 2024', 'September 26, 2024',\n",
       "       'September 25, 2024', 'September 24, 2024', 'September 23, 2024',\n",
       "       'September 22, 2024', 'September 21, 2024', 'September 20, 2024',\n",
       "       'September 19, 2024', 'September 18, 2024', 'September 17, 2024',\n",
       "       'September 16, 2024', 'September 15, 2024', 'September 14, 2024',\n",
       "       'September 13, 2024', 'September 12, 2024', 'September 11, 2024',\n",
       "       'September 10, 2024', 'September 09, 2024', 'September 08, 2024',\n",
       "       'September 07, 2024', 'September 06, 2024', 'September 05, 2024',\n",
       "       'September 04, 2024', 'September 03, 2024', 'September 02, 2024',\n",
       "       'September 01, 2024', 'August 31, 2024', 'August 30, 2024',\n",
       "       'August 29, 2024', 'August 28, 2024', 'August 27, 2024',\n",
       "       'August 26, 2024'], dtype=object)"
      ]
     },
     "execution_count": 7,
     "metadata": {},
     "output_type": "execute_result"
    }
   ],
   "source": [
    "cbs['date'].unique()"
   ]
  },
  {
   "cell_type": "code",
   "execution_count": 8,
   "id": "75b8f665",
   "metadata": {},
   "outputs": [
    {
     "data": {
      "text/html": [
       "<div>\n",
       "<style scoped>\n",
       "    .dataframe tbody tr th:only-of-type {\n",
       "        vertical-align: middle;\n",
       "    }\n",
       "\n",
       "    .dataframe tbody tr th {\n",
       "        vertical-align: top;\n",
       "    }\n",
       "\n",
       "    .dataframe thead th {\n",
       "        text-align: right;\n",
       "    }\n",
       "</style>\n",
       "<table border=\"1\" class=\"dataframe\">\n",
       "  <thead>\n",
       "    <tr style=\"text-align: right;\">\n",
       "      <th></th>\n",
       "      <th>Date</th>\n",
       "      <th>Press</th>\n",
       "      <th>Topic</th>\n",
       "      <th>Title</th>\n",
       "      <th>Text</th>\n",
       "    </tr>\n",
       "  </thead>\n",
       "  <tbody>\n",
       "    <tr>\n",
       "      <th>0</th>\n",
       "      <td>November 1, 2024</td>\n",
       "      <td>NPR</td>\n",
       "      <td>It's Been a Minute</td>\n",
       "      <td>America's Next Top Scapegoat; plus, Inside the...</td>\n",
       "      <td>[\"The 2024 presidential candidates are making ...</td>\n",
       "    </tr>\n",
       "    <tr>\n",
       "      <th>1</th>\n",
       "      <td>October 31, 2024</td>\n",
       "      <td>NPR</td>\n",
       "      <td>Consider This from NPR</td>\n",
       "      <td>How many ways can you tell someone to vote?</td>\n",
       "      <td>['There are plenty of ways to encourage people...</td>\n",
       "    </tr>\n",
       "    <tr>\n",
       "      <th>2</th>\n",
       "      <td>October 31, 2024</td>\n",
       "      <td>NPR</td>\n",
       "      <td>Consider This from NPR</td>\n",
       "      <td>Debunking voter fraud conspiracy theories. And...</td>\n",
       "      <td>[\"Good morning. You're reading the Up First ne...</td>\n",
       "    </tr>\n",
       "    <tr>\n",
       "      <th>3</th>\n",
       "      <td>October 31, 2024</td>\n",
       "      <td>NPR</td>\n",
       "      <td>Consider This from NPR</td>\n",
       "      <td>A Good Guy: Under Oath</td>\n",
       "      <td>[\"Good morning. You're reading the Up First ne...</td>\n",
       "    </tr>\n",
       "    <tr>\n",
       "      <th>4</th>\n",
       "      <td>October 31, 2024</td>\n",
       "      <td>NPR</td>\n",
       "      <td>2024 Election</td>\n",
       "      <td>After a chaotic vote count in 2020, here's wha...</td>\n",
       "      <td>['DETROIT — In 2020, what was then called the ...</td>\n",
       "    </tr>\n",
       "  </tbody>\n",
       "</table>\n",
       "</div>"
      ],
      "text/plain": [
       "               Date Press                   Topic  \\\n",
       "0  November 1, 2024   NPR      It's Been a Minute   \n",
       "1  October 31, 2024   NPR  Consider This from NPR   \n",
       "2  October 31, 2024   NPR  Consider This from NPR   \n",
       "3  October 31, 2024   NPR  Consider This from NPR   \n",
       "4  October 31, 2024   NPR           2024 Election   \n",
       "\n",
       "                                               Title  \\\n",
       "0  America's Next Top Scapegoat; plus, Inside the...   \n",
       "1        How many ways can you tell someone to vote?   \n",
       "2  Debunking voter fraud conspiracy theories. And...   \n",
       "3                             A Good Guy: Under Oath   \n",
       "4  After a chaotic vote count in 2020, here's wha...   \n",
       "\n",
       "                                                Text  \n",
       "0  [\"The 2024 presidential candidates are making ...  \n",
       "1  ['There are plenty of ways to encourage people...  \n",
       "2  [\"Good morning. You're reading the Up First ne...  \n",
       "3  [\"Good morning. You're reading the Up First ne...  \n",
       "4  ['DETROIT — In 2020, what was then called the ...  "
      ]
     },
     "execution_count": 8,
     "metadata": {},
     "output_type": "execute_result"
    }
   ],
   "source": [
    "npr.head()"
   ]
  },
  {
   "cell_type": "code",
   "execution_count": 9,
   "id": "ed096f14",
   "metadata": {},
   "outputs": [],
   "source": [
    "def remove_updated(date_str):\n",
    "    return date_str.replace(\"Updated \", \"\")\n",
    "\n",
    "# npr['Date']에 'Updated' 제거 적용\n",
    "npr['Date'] = npr['Date'].apply(remove_updated)\n",
    "\n",
    "def format_date_to_two_digits(date_str):\n",
    "    date = datetime.strptime(date_str, \"%B %d, %Y\")\n",
    "    formatted_date = date.strftime(\"%B %d, %Y\")\n",
    "    return formatted_date\n",
    "\n",
    "npr['Date'] = npr['Date'].apply(format_date_to_two_digits)"
   ]
  },
  {
   "cell_type": "code",
   "execution_count": 10,
   "id": "deb2f297",
   "metadata": {},
   "outputs": [
    {
     "data": {
      "text/plain": [
       "array(['November 01, 2024', 'October 31, 2024', 'October 30, 2024',\n",
       "       'October 29, 2024', 'October 28, 2024', 'October 27, 2024',\n",
       "       'October 26, 2024', 'October 25, 2024', 'October 24, 2024',\n",
       "       'October 23, 2024', 'October 22, 2024', 'October 21, 2024',\n",
       "       'October 20, 2024', 'October 19, 2024', 'October 18, 2024',\n",
       "       'October 17, 2024', 'October 16, 2024', 'October 15, 2024',\n",
       "       'October 14, 2024', 'October 13, 2024', 'October 12, 2024',\n",
       "       'October 11, 2024', 'October 10, 2024', 'October 09, 2024',\n",
       "       'October 08, 2024', 'October 07, 2024', 'October 05, 2024',\n",
       "       'October 04, 2024', 'October 03, 2024', 'October 02, 2024',\n",
       "       'October 01, 2024', 'September 30, 2024', 'September 28, 2024',\n",
       "       'September 27, 2024', 'September 26, 2024', 'September 29, 2024',\n",
       "       'September 25, 2024', 'September 24, 2024', 'September 23, 2024',\n",
       "       'September 22, 2024', 'September 21, 2024', 'September 20, 2024',\n",
       "       'September 19, 2024', 'September 18, 2024', 'September 17, 2024',\n",
       "       'September 16, 2024', 'September 15, 2024', 'September 14, 2024',\n",
       "       'September 13, 2024', 'September 12, 2024', 'September 11, 2024',\n",
       "       'September 10, 2024', 'September 09, 2024', 'September 08, 2024',\n",
       "       'September 07, 2024', 'September 06, 2024', 'September 05, 2024',\n",
       "       'September 04, 2024', 'September 03, 2024', 'September 01, 2024',\n",
       "       'August 31, 2024', 'August 30, 2024', 'August 29, 2024',\n",
       "       'August 28, 2024', 'August 27, 2024'], dtype=object)"
      ]
     },
     "execution_count": 10,
     "metadata": {},
     "output_type": "execute_result"
    }
   ],
   "source": [
    "npr['Date'].unique()"
   ]
  },
  {
   "cell_type": "code",
   "execution_count": 11,
   "id": "e68f9f3e",
   "metadata": {},
   "outputs": [],
   "source": [
    "news=pd.DataFrame({\n",
    "    'title':reason['headlines'],\n",
    "    'date':reason['date'],\n",
    "    'press':reason['Press'],\n",
    "    'text':reason['text']\n",
    "})"
   ]
  },
  {
   "cell_type": "code",
   "execution_count": 12,
   "id": "091140d1",
   "metadata": {},
   "outputs": [],
   "source": [
    "cbs.rename(columns={'title': 'title',\n",
    "                    'date': 'date',\n",
    "                    'Press': 'press',\n",
    "                    'content': 'text'}, inplace=True)\n",
    "\n",
    "news = pd.concat([news, cbs], axis=0, ignore_index=True)"
   ]
  },
  {
   "cell_type": "code",
   "execution_count": 13,
   "id": "086776b3",
   "metadata": {},
   "outputs": [],
   "source": [
    "npr.rename(columns={'Title': 'title',\n",
    "                    'Date': 'date',\n",
    "                    'Press': 'press',\n",
    "                    'Text': 'text'}, inplace=True)\n",
    "npr.drop(columns=['Topic'],inplace=True)\n",
    "\n",
    "news = pd.concat([news, npr], axis=0, ignore_index=True)"
   ]
  },
  {
   "cell_type": "code",
   "execution_count": 14,
   "id": "4bdff4b6",
   "metadata": {},
   "outputs": [
    {
     "data": {
      "text/html": [
       "<div>\n",
       "<style scoped>\n",
       "    .dataframe tbody tr th:only-of-type {\n",
       "        vertical-align: middle;\n",
       "    }\n",
       "\n",
       "    .dataframe tbody tr th {\n",
       "        vertical-align: top;\n",
       "    }\n",
       "\n",
       "    .dataframe thead th {\n",
       "        text-align: right;\n",
       "    }\n",
       "</style>\n",
       "<table border=\"1\" class=\"dataframe\">\n",
       "  <thead>\n",
       "    <tr style=\"text-align: right;\">\n",
       "      <th></th>\n",
       "      <th>title</th>\n",
       "      <th>date</th>\n",
       "      <th>press</th>\n",
       "      <th>text</th>\n",
       "    </tr>\n",
       "  </thead>\n",
       "  <tbody>\n",
       "    <tr>\n",
       "      <th>849</th>\n",
       "      <td>Harris is on a 2-day Georgia bus tour. It’s th...</td>\n",
       "      <td>August 29, 2024</td>\n",
       "      <td>NPR</td>\n",
       "      <td>['Vice President Harris and her running mate, ...</td>\n",
       "    </tr>\n",
       "    <tr>\n",
       "      <th>850</th>\n",
       "      <td>Weird. Why the popular campaign insult stings ...</td>\n",
       "      <td>September 03, 2024</td>\n",
       "      <td>NPR</td>\n",
       "      <td>['FALCON HEIGHTS, Minn. — Weird. It’s a descri...</td>\n",
       "    </tr>\n",
       "    <tr>\n",
       "      <th>851</th>\n",
       "      <td>Florida felons could get a bit more clarity on...</td>\n",
       "      <td>August 28, 2024</td>\n",
       "      <td>NPR</td>\n",
       "      <td>['Election officials in Florida say they are w...</td>\n",
       "    </tr>\n",
       "    <tr>\n",
       "      <th>852</th>\n",
       "      <td>Jack Smith files superseding indictment agains...</td>\n",
       "      <td>August 27, 2024</td>\n",
       "      <td>NPR</td>\n",
       "      <td>['Prosecutors filed a superseding indictment i...</td>\n",
       "    </tr>\n",
       "    <tr>\n",
       "      <th>853</th>\n",
       "      <td>Harris needs Gen Z. Here's her plan to win them</td>\n",
       "      <td>August 27, 2024</td>\n",
       "      <td>NPR</td>\n",
       "      <td>['Vice President Harris is bolstering her outr...</td>\n",
       "    </tr>\n",
       "  </tbody>\n",
       "</table>\n",
       "</div>"
      ],
      "text/plain": [
       "                                                 title                date  \\\n",
       "849  Harris is on a 2-day Georgia bus tour. It’s th...     August 29, 2024   \n",
       "850  Weird. Why the popular campaign insult stings ...  September 03, 2024   \n",
       "851  Florida felons could get a bit more clarity on...     August 28, 2024   \n",
       "852  Jack Smith files superseding indictment agains...     August 27, 2024   \n",
       "853    Harris needs Gen Z. Here's her plan to win them     August 27, 2024   \n",
       "\n",
       "    press                                               text  \n",
       "849   NPR  ['Vice President Harris and her running mate, ...  \n",
       "850   NPR  ['FALCON HEIGHTS, Minn. — Weird. It’s a descri...  \n",
       "851   NPR  ['Election officials in Florida say they are w...  \n",
       "852   NPR  ['Prosecutors filed a superseding indictment i...  \n",
       "853   NPR  ['Vice President Harris is bolstering her outr...  "
      ]
     },
     "execution_count": 14,
     "metadata": {},
     "output_type": "execute_result"
    }
   ],
   "source": [
    "news.tail()"
   ]
  },
  {
   "cell_type": "code",
   "execution_count": 15,
   "id": "ac7e271f",
   "metadata": {},
   "outputs": [
    {
     "data": {
      "text/plain": [
       "array(['October 31, 2024', 'October 30, 2024', 'October 29, 2024',\n",
       "       'October 28, 2024', 'October 25, 2024', 'October 24, 2024',\n",
       "       'October 23, 2024', 'October 22, 2024', 'October 21, 2024',\n",
       "       'October 20, 2024', 'October 19, 2024', 'October 18, 2024',\n",
       "       'October 17, 2024', 'October 16, 2024', 'October 15, 2024',\n",
       "       'October 14, 2024', 'October 11, 2024', 'October 10, 2024',\n",
       "       'October 09, 2024', 'October 08, 2024', 'October 07, 2024',\n",
       "       'October 05, 2024', 'October 04, 2024', 'October 03, 2024',\n",
       "       'October 02, 2024', 'October 01, 2024', 'September 30, 2024',\n",
       "       'September 27, 2024', 'September 26, 2024', 'September 25, 2024',\n",
       "       'September 24, 2024', 'September 23, 2024', 'September 20, 2024',\n",
       "       'September 19, 2024', 'September 18, 2024', 'September 16, 2024',\n",
       "       'September 15, 2024', 'September 13, 2024', 'September 12, 2024',\n",
       "       'September 11, 2024', 'September 10, 2024', 'September 09, 2024',\n",
       "       'September 06, 2024', 'September 05, 2024', 'September 04, 2024',\n",
       "       'September 03, 2024', 'September 02, 2024', 'September 01, 2024',\n",
       "       'August 31, 2024', 'August 30, 2024', 'August 29, 2024',\n",
       "       'August 28, 2024', 'August 27, 2024', 'August 26, 2024',\n",
       "       'August 23, 2024', 'August 22, 2024', 'November 02, 2024',\n",
       "       'November 01, 2024', 'October 27, 2024', 'October 26, 2024',\n",
       "       'October 13, 2024', 'October 12, 2024', 'October 06, 2024',\n",
       "       'September 29, 2024', 'September 28, 2024', 'September 22, 2024',\n",
       "       'September 21, 2024', 'September 17, 2024', 'September 14, 2024',\n",
       "       'September 08, 2024', 'September 07, 2024'], dtype=object)"
      ]
     },
     "execution_count": 15,
     "metadata": {},
     "output_type": "execute_result"
    }
   ],
   "source": [
    "news['date'].unique()"
   ]
  },
  {
   "cell_type": "code",
   "execution_count": 16,
   "id": "e4225443",
   "metadata": {},
   "outputs": [],
   "source": [
    "news.to_csv('news.csv',index=False)"
   ]
  },
  {
   "cell_type": "code",
   "execution_count": null,
   "id": "5dde1e5d",
   "metadata": {},
   "outputs": [],
   "source": []
  }
 ],
 "metadata": {
  "kernelspec": {
   "display_name": "Python 3",
   "language": "python",
   "name": "python3"
  },
  "language_info": {
   "codemirror_mode": {
    "name": "ipython",
    "version": 3
   },
   "file_extension": ".py",
   "mimetype": "text/x-python",
   "name": "python",
   "nbconvert_exporter": "python",
   "pygments_lexer": "ipython3",
   "version": "3.6.13"
  }
 },
 "nbformat": 4,
 "nbformat_minor": 5
}
